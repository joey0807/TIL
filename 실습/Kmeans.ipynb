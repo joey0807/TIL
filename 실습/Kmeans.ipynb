{
 "cells": [
  {
   "cell_type": "markdown",
   "metadata": {},
   "source": [
    "비지도 학습 : 군집 알고리즘\n",
    "- 군집(Clustering) : 비슷한 샘플끼리 하나의 그룹으로 모으는 것\n",
    "- k - 평균 군집 알고리즘\n",
    "- 캐글의 과일 데이터 셋 사용"
   ]
  },
  {
   "cell_type": "markdown",
   "metadata": {},
   "source": [
    "![](./k-평균.PNG)\n",
    "\n",
    "# 학교 실습 4 : Kmeans : 데이터 불러오기"
   ]
  }
 ],
 "metadata": {
  "language_info": {
   "name": "python"
  },
  "orig_nbformat": 4
 },
 "nbformat": 4,
 "nbformat_minor": 2
}
