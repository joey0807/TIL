{
 "cells": [
  {
   "cell_type": "markdown",
   "metadata": {},
   "source": [
    "# 클래스의 구조\n",
    "- 속성과 기능으로 정의될 수 있다\n",
    "  - 클래스 내부에서 정의되는 변수 : 클래스 속성\n",
    "  - 클래스 내부에서 정의되는 함수 : 클래스 기능\n",
    "  - 한 클래스는 여러 개의 속성과 기능으로 정의될 수 있다\n",
    "    - 이떄, 속성과 기능은 클래스의 특징을 반영\n",
    "  - 클래스 내에서 정의된 함수를 `메소드`라고 표현\n",
    "    - 표현을 다르게 할 뿐이고, 동작은 동일\n",
    "    - 클래스 내부에서 정의된 경우와 그렇지 않은 경우를 구분해서 표현\n",
    "  - 변수\n",
    "    - 전역, 지역, 클래스 변수, 객체 변수\n",
    "    - 클래스 변수 : 클래스 내에서 정의되는 변수\n",
    "    - 객체 변수 : 객체 내에서 정의되는 변수"
   ]
  },
  {
   "cell_type": "markdown",
   "metadata": {},
   "source": [
    "아무것도 없는 빈 클래스 정의"
   ]
  },
  {
   "cell_type": "code",
   "execution_count": 1,
   "metadata": {},
   "outputs": [],
   "source": [
    "#사람이라는 클래스를 정의\n",
    "#사람을 모델로 해서 클래스를 정의하는 방법\n",
    "\n",
    "class Person():\n",
    "    pass #파이썬은 클래스도 빈 블럭을 허용하지 않음"
   ]
  },
  {
   "cell_type": "code",
   "execution_count": 2,
   "metadata": {},
   "outputs": [
    {
     "data": {
      "text/plain": [
       "<__main__.Person at 0x2647a614130>"
      ]
     },
     "execution_count": 2,
     "metadata": {},
     "output_type": "execute_result"
    }
   ],
   "source": [
    "#객체 생성(함수를 호출하듯이 클래스를 호출)\n",
    "#파이썬 인터프리터는 생성된 객체를 돌려줌\n",
    "Person()"
   ]
  },
  {
   "cell_type": "markdown",
   "metadata": {},
   "source": [
    "__main__.Person     at     0x2647a614130\n",
    "---------------            -------------\n",
    "객체의 타입(어떤 클래스)   객체가 생성된 주소"
   ]
  },
  {
   "cell_type": "code",
   "execution_count": 3,
   "metadata": {},
   "outputs": [
    {
     "data": {
      "text/plain": [
       "<__main__.Person at 0x2647a548040>"
      ]
     },
     "execution_count": 3,
     "metadata": {},
     "output_type": "execute_result"
    }
   ],
   "source": [
    "#이런 방식으로는 객체를 사용할 수 없음\n",
    "#객체가 만들어진 위치를 확인할 순 있지만, 참조는 불가능\n",
    "#변수가 꼭 필요함\n",
    "\n",
    "obj = Person()\n",
    "obj"
   ]
  },
  {
   "cell_type": "markdown",
   "metadata": {},
   "source": [
    "변수를 통한 객체의 참조\n",
    "- 일반적으로 객체지향 프로그래밍에서는 변수를 하나의 객체로 동일하게 취급\n",
    "- 정확하게는 변수와 객체는 구분이 가능하지만, 변수를 객체와 동일시 하게 됨\n",
    "- 변수 자체를 하나의 객체로 취급"
   ]
  },
  {
   "cell_type": "markdown",
   "metadata": {},
   "source": [
    "사실 모든 것이 객체"
   ]
  },
  {
   "cell_type": "code",
   "execution_count": 4,
   "metadata": {},
   "outputs": [
    {
     "data": {
      "text/plain": [
       "10"
      ]
     },
     "execution_count": 4,
     "metadata": {},
     "output_type": "execute_result"
    }
   ],
   "source": [
    "#변수의 정의는 알고보면 객체 생성과 동일\n",
    "a = 10\n",
    "a"
   ]
  },
  {
   "cell_type": "code",
   "execution_count": 5,
   "metadata": {},
   "outputs": [
    {
     "data": {
      "text/plain": [
       "10"
      ]
     },
     "execution_count": 5,
     "metadata": {},
     "output_type": "execute_result"
    }
   ],
   "source": [
    "#표현만 다르지 동일한 객체의 생성\n",
    "#a는 10이라는 숫자 하나를 가지고 있는 객체\n",
    "a = int(10)\n",
    "a"
   ]
  },
  {
   "cell_type": "code",
   "execution_count": 6,
   "metadata": {},
   "outputs": [
    {
     "data": {
      "text/plain": [
       "<function print>"
      ]
     },
     "execution_count": 6,
     "metadata": {},
     "output_type": "execute_result"
    }
   ],
   "source": [
    "#함수도 객체\n",
    "print"
   ]
  },
  {
   "cell_type": "markdown",
   "metadata": {},
   "source": [
    "얕은 복사 VS 깊은 복사\n",
    "- 리스트도 객체이고, 새로 정의한 Person 타입의 객체도 객체이기 때문에\n",
    "- 동일하게 동작함"
   ]
  },
  {
   "cell_type": "code",
   "execution_count": 7,
   "metadata": {},
   "outputs": [],
   "source": [
    "장동건 = Person()\n",
    "원빈 = Person()"
   ]
  },
  {
   "cell_type": "code",
   "execution_count": 8,
   "metadata": {},
   "outputs": [
    {
     "name": "stdout",
     "output_type": "stream",
     "text": [
      "<__main__.Person object at 0x000002647A623430>\n",
      "<__main__.Person object at 0x000002647A60A9A0>\n"
     ]
    }
   ],
   "source": [
    "print(장동건)\n",
    "print(원빈)"
   ]
  },
  {
   "cell_type": "code",
   "execution_count": 9,
   "metadata": {},
   "outputs": [],
   "source": [
    "#다른 메모리로 복사하게 되면, 주소가 복사됨\n",
    "#얕은 복사\n",
    "#두 객체는 같은 객체가 된다\n",
    "고소영 = 장동건"
   ]
  },
  {
   "cell_type": "code",
   "execution_count": 10,
   "metadata": {},
   "outputs": [
    {
     "name": "stdout",
     "output_type": "stream",
     "text": [
      "<__main__.Person object at 0x000002647A623430>\n",
      "<__main__.Person object at 0x000002647A623430>\n"
     ]
    }
   ],
   "source": [
    "print(고소영)\n",
    "print(장동건)"
   ]
  },
  {
   "cell_type": "markdown",
   "metadata": {},
   "source": [
    "모든건 주소를 기준으로 구분\n",
    "- 변수, 함수, 클래스, 객체 모든 것이 메모리의 주소(위치)를 기준으로 구분\n",
    "- 같아 보이는 객체도 주소가 다르면 다른 객체\n",
    "- 달라 보이는 객체도 주소가 같으면 같은 객체"
   ]
  },
  {
   "cell_type": "markdown",
   "metadata": {},
   "source": [
    "## 객체 변수\n",
    "- 객체가 없으면 정의할 수 없다\n",
    "  - 객체가 생성된 이후에 정의될 수 있다\n",
    "- 같은 타입이라고 해도, 객체와 객체 간에는 객체변수를 서로 공유하지 않음\n",
    "  - 객체 고유의 변수\n",
    "  - 객체변수라고 부름"
   ]
  },
  {
   "cell_type": "code",
   "execution_count": 11,
   "metadata": {},
   "outputs": [],
   "source": [
    "#1. 객체가 먼저 생성되어야 함\n",
    "장돈건 = Person()"
   ]
  },
  {
   "cell_type": "code",
   "execution_count": 12,
   "metadata": {},
   "outputs": [],
   "source": [
    "#2.만들어진 객체를 통해서 변수를 정의\n",
    "장동건.name = '장동건'\n",
    "장동건.age = 20"
   ]
  },
  {
   "cell_type": "code",
   "execution_count": 13,
   "metadata": {},
   "outputs": [
    {
     "name": "stdout",
     "output_type": "stream",
     "text": [
      "장동건\n",
      "20\n"
     ]
    }
   ],
   "source": [
    "#객체를 통해서 정의된 객체변수를 참조\n",
    "print(장동건.name)\n",
    "print(장동건.age)"
   ]
  },
  {
   "cell_type": "markdown",
   "metadata": {},
   "source": [
    "파이썬에서 `.` 의 의미\n",
    "- 네임 스페이스의 역할\n",
    "- 참조하려는 변수, 함수 또는 클래스가 어디에 정의되어 있는지를 표현\n",
    "  - 변수를 예로 들면, 변수가 객체 내에서 정의된 변수일 수도 있고\n",
    "  - 클래스에서 정의된 변수, 혹은 다른 파이썬 소스파일에서 정의된 변수일 수 있음\n",
    "    - 이름이 같으면 충돌이 발생(구분을 할 수 없음)\n",
    "  - `객체.변수` : 객체의 멤버\n",
    "  - `클래스.변수`\n",
    "  - `모듈.변수`"
   ]
  },
  {
   "cell_type": "markdown",
   "metadata": {},
   "source": [
    "## 클래스 변수\n",
    "- 객체와는 무관한 변수\n",
    "  - 객체 없이도 참조 가능한 변수\n",
    "- 클래스 내부, 메소드 외부에 정의가 되면 `클래스 변수`가 된다\n",
    "- 공유 변수\n",
    "  - 모든 객체가 하나의 동일한 클래스 변수를 참조"
   ]
  },
  {
   "cell_type": "code",
   "execution_count": 14,
   "metadata": {},
   "outputs": [],
   "source": [
    "class Person:\n",
    "    #한국 국적을 가지고 있는 사람을 가정\n",
    "    nation = 'Korea'"
   ]
  },
  {
   "cell_type": "code",
   "execution_count": 15,
   "metadata": {},
   "outputs": [
    {
     "data": {
      "text/plain": [
       "'Korea'"
      ]
     },
     "execution_count": 15,
     "metadata": {},
     "output_type": "execute_result"
    }
   ],
   "source": [
    "#객체와 상관없이 클래스를 통해서 참조\n",
    "Person.nation"
   ]
  },
  {
   "cell_type": "markdown",
   "metadata": {},
   "source": [
    "클래스 변수는 클래스를 통해서만 접근하도록 해야 한다\n",
    "- 굳이 객체를 통해서 클래스 변수를 참조해야만 하는 그런 상황은 없음\n",
    "- 파이썬이 허용한다 해도 사용하지 않는 것이 좋음\n",
    "- 클래스 변수는 클래스를 통해서만 참조하고\n",
    "- 객체 변수는 객체를 통해서만 참조하면 아무 문제가 없다!"
   ]
  }
 ],
 "metadata": {
  "interpreter": {
   "hash": "ce8ad003cbacc730e5ae8e25e04f0b81855cad91beef114a29a8b1ddf1550b22"
  },
  "kernelspec": {
   "display_name": "Python 3.9.7 64-bit ('base': conda)",
   "language": "python",
   "name": "python3"
  },
  "language_info": {
   "codemirror_mode": {
    "name": "ipython",
    "version": 3
   },
   "file_extension": ".py",
   "mimetype": "text/x-python",
   "name": "python",
   "nbconvert_exporter": "python",
   "pygments_lexer": "ipython3",
   "version": "3.9.7"
  },
  "orig_nbformat": 4
 },
 "nbformat": 4,
 "nbformat_minor": 2
}
