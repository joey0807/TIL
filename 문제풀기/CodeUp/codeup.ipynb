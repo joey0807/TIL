{
 "cells": [
  {
   "cell_type": "markdown",
   "metadata": {},
   "source": [
    "# 6006\n",
    "- \"!@#$%^&*()' 출력"
   ]
  },
  {
   "cell_type": "code",
   "execution_count": 1,
   "metadata": {},
   "outputs": [
    {
     "name": "stdout",
     "output_type": "stream",
     "text": [
      "\"!@#$%^&*()'\n"
     ]
    }
   ],
   "source": [
    "#특수문자를 출력하려면 \\를 이용해 문자열 따옴표와 구분 해줘야 함\n",
    "print('\"!@#$%^&*()\\'')"
   ]
  },
  {
   "cell_type": "markdown",
   "metadata": {},
   "source": [
    "# 6007\n",
    "- \"C:\\Download\\'hello'.py\" 출력, 따옴표도 함꼐 출력"
   ]
  },
  {
   "cell_type": "code",
   "execution_count": 2,
   "metadata": {},
   "outputs": [
    {
     "name": "stdout",
     "output_type": "stream",
     "text": [
      "\"C:\\Download\\'hello'.py\"\n"
     ]
    }
   ],
   "source": [
    "#6006이랑 같은 맥락 - \\로 특수문자 구분\n",
    "print('\"C:\\Download\\\\\\'hello\\'.py\"')"
   ]
  },
  {
   "cell_type": "markdown",
   "metadata": {},
   "source": [
    "# 6009 \n",
    "- 정수로 변환해서 출력"
   ]
  },
  {
   "cell_type": "code",
   "execution_count": 19,
   "metadata": {},
   "outputs": [
    {
     "name": "stdout",
     "output_type": "stream",
     "text": [
      "10\n"
     ]
    }
   ],
   "source": [
    "#기본\n",
    "# n = input()\n",
    "# n = int(n)\n",
    "# print(n)\n",
    "\n",
    "#번거롭게 줄 나누지 말고 한번에 출력하는 법\n",
    "n = int(input())\n",
    "print(n)"
   ]
  },
  {
   "cell_type": "markdown",
   "metadata": {},
   "source": [
    "# 6015\n",
    "- 정수 2개를 입력받고 그대로 출력하는 방법"
   ]
  },
  {
   "cell_type": "code",
   "execution_count": 7,
   "metadata": {},
   "outputs": [
    {
     "name": "stdout",
     "output_type": "stream",
     "text": [
      "10\n",
      "20\n"
     ]
    }
   ],
   "source": [
    "#split()으로 구분하고, 두 정수 구분은 기본값은 공백으로 구분\n",
    "a, b = input().split()\n",
    "print(a)\n",
    "print(b)"
   ]
  },
  {
   "cell_type": "markdown",
   "metadata": {},
   "source": [
    "# 6018\n",
    "- ':'로 입력값을 분할하는 방법"
   ]
  },
  {
   "cell_type": "code",
   "execution_count": 8,
   "metadata": {},
   "outputs": [
    {
     "name": "stdout",
     "output_type": "stream",
     "text": [
      "10:28\n"
     ]
    }
   ],
   "source": [
    "#split()으로 구분하고, 'sep='으로 분할해서 출력\n",
    "time, minute = input().split(':')\n",
    "print(time, minute, sep=':')"
   ]
  },
  {
   "cell_type": "markdown",
   "metadata": {},
   "source": [
    "# 6019\n",
    "- 연월일 입력받아 일월연으로 순서 바꿔 출력"
   ]
  },
  {
   "cell_type": "code",
   "execution_count": 17,
   "metadata": {},
   "outputs": [
    {
     "name": "stdout",
     "output_type": "stream",
     "text": [
      "28-12-2021\n",
      "28-12-2021\n",
      "28-12-2021\n"
     ]
    }
   ],
   "source": [
    "y, m, d = input().split('.')\n",
    "print(d,m,y,sep='-')\n",
    "\n",
    "#fstring을 쓴다면\n",
    "print(f'{d}-{m}-{y}')\n",
    "\n",
    "#format을 쓴다면\n",
    "print('{}-{}-{}'.format(d,m,y))"
   ]
  },
  {
   "cell_type": "markdown",
   "metadata": {},
   "source": [
    "# 6020"
   ]
  },
  {
   "cell_type": "code",
   "execution_count": 11,
   "metadata": {},
   "outputs": [
    {
     "name": "stdout",
     "output_type": "stream",
     "text": [
      "9608071234567\n"
     ]
    }
   ],
   "source": [
    "#아무것도 없는 빈 문자는 작은따옴표를 2개 붙임\n",
    "a, b = input().split('-')\n",
    "print(a,b,sep=\"\")\n",
    "#print(a,b) -> 그냥 출력하면 두 수 사이에 공백 생김"
   ]
  },
  {
   "cell_type": "markdown",
   "metadata": {},
   "source": [
    "# 6021\n",
    "- 단어 입력받아서 나눠서 출력하기\n",
    "- 5개의 문자로 이루어진 단어가 입력됨"
   ]
  },
  {
   "cell_type": "code",
   "execution_count": 25,
   "metadata": {},
   "outputs": [
    {
     "name": "stdout",
     "output_type": "stream",
     "text": [
      "H\n",
      "e\n",
      "l\n",
      "l\n",
      "o\n"
     ]
    }
   ],
   "source": [
    "strs = 'Hello'\n",
    "print(strs[0])\n",
    "print(strs[1])\n",
    "print(strs[2])\n",
    "print(strs[3])\n",
    "print(strs[4])"
   ]
  },
  {
   "cell_type": "code",
   "execution_count": 26,
   "metadata": {},
   "outputs": [
    {
     "name": "stdout",
     "output_type": "stream",
     "text": [
      "H\n",
      "e\n",
      "l\n",
      "l\n",
      "o\n"
     ]
    }
   ],
   "source": [
    "#문자열도 이터레이블 객체이므로 unpaking이 가능\n",
    "print(*strs, sep='\\n')"
   ]
  },
  {
   "cell_type": "markdown",
   "metadata": {},
   "source": [
    "# 6022\n",
    "- 연월일을 입력받아 나눠서 출력하기"
   ]
  },
  {
   "cell_type": "code",
   "execution_count": 30,
   "metadata": {},
   "outputs": [
    {
     "name": "stdout",
     "output_type": "stream",
     "text": [
      "21 12 28\n"
     ]
    }
   ],
   "source": [
    "day = input()\n",
    "#처음과 끝은 적당히 생략 가능\n",
    "print(day[:2],day[2:4],day[4:])"
   ]
  },
  {
   "cell_type": "markdown",
   "metadata": {},
   "source": [
    "# 6027\n",
    "- 10진 정수를 16진수로 출력\n",
    "- 파이썬에서는 hex()함수를 이용하면 됨\n",
    "- 문자열 포맷팅(fstring, format)을 이용해서도 출력 가능"
   ]
  },
  {
   "cell_type": "code",
   "execution_count": 38,
   "metadata": {},
   "outputs": [
    {
     "name": "stdout",
     "output_type": "stream",
     "text": [
      "ff\n",
      "ff\n",
      "ff\n"
     ]
    }
   ],
   "source": [
    "a = int(input())\n",
    "\n",
    "print('%x'%a)#오래된 방법\n",
    "print(hex(a)[2:])#숫자 앞의 0x 처리\n",
    "print(f'{a:x}')"
   ]
  },
  {
   "cell_type": "markdown",
   "metadata": {},
   "source": [
    "# 6028\n",
    "- 6027과 동일\n",
    "- 16진수를 대문자로 출력"
   ]
  },
  {
   "cell_type": "code",
   "execution_count": 39,
   "metadata": {},
   "outputs": [
    {
     "name": "stdout",
     "output_type": "stream",
     "text": [
      "FF\n",
      "FF\n",
      "FF\n"
     ]
    }
   ],
   "source": [
    "a = int(input())\n",
    "\n",
    "print('%X'%a)#x를 대문자로\n",
    "print(hex(a)[2:].upper())#upper()함수 사용\n",
    "print(f'{a:X}')#이것도 x를 대문자로"
   ]
  },
  {
   "cell_type": "markdown",
   "metadata": {},
   "source": [
    "# 6029\n",
    "- 16진수를 8진수로 출력\n",
    "- 8진수로 변환할 때는 oct()함수를 사용\n",
    "- 문자열 포멧팅(fstring, format)을 사용할 때는 'o'를 사용"
   ]
  },
  {
   "cell_type": "code",
   "execution_count": 43,
   "metadata": {},
   "outputs": [
    {
     "name": "stdout",
     "output_type": "stream",
     "text": [
      "17\n",
      "17\n",
      "17\n"
     ]
    }
   ],
   "source": [
    "a = int(input(), base=16)#10진수를 16진수로 인식\n",
    "\n",
    "print('%o'%a)\n",
    "print(oct(a)[2:])\n",
    "print(f'{a:o}')"
   ]
  },
  {
   "cell_type": "markdown",
   "metadata": {},
   "source": [
    "# 6030\n",
    "- 영문자 1개를 입력받아 10진수(아스키코드값)로 변환\n",
    "- ord()함수 사용"
   ]
  },
  {
   "cell_type": "code",
   "execution_count": 44,
   "metadata": {},
   "outputs": [
    {
     "name": "stdout",
     "output_type": "stream",
     "text": [
      "65\n"
     ]
    }
   ],
   "source": [
    "a = ord(input())\n",
    "print(a)\n",
    "\n",
    "#서순으로 이렇게도 되네\n",
    "# a = input()\n",
    "# print(ord(a))"
   ]
  },
  {
   "cell_type": "markdown",
   "metadata": {},
   "source": [
    "# 6031\n",
    "- 정수를 입력받아서 유니코드 문자로 변환\n",
    "- chr()함수 사용"
   ]
  },
  {
   "cell_type": "code",
   "execution_count": 45,
   "metadata": {},
   "outputs": [
    {
     "name": "stdout",
     "output_type": "stream",
     "text": [
      "A\n"
     ]
    }
   ],
   "source": [
    "a = int(input())\n",
    "print(chr(a))"
   ]
  }
 ],
 "metadata": {
  "interpreter": {
   "hash": "f78223e05a5dd203e81fcb8090d54a47bf64e993ffd636d4a07645dc089b3ac9"
  },
  "kernelspec": {
   "display_name": "Python 3.10.0 64-bit ('multicampus': conda)",
   "language": "python",
   "name": "python3"
  },
  "language_info": {
   "codemirror_mode": {
    "name": "ipython",
    "version": 3
   },
   "file_extension": ".py",
   "mimetype": "text/x-python",
   "name": "python",
   "nbconvert_exporter": "python",
   "pygments_lexer": "ipython3",
   "version": "3.9.7"
  },
  "orig_nbformat": 4
 },
 "nbformat": 4,
 "nbformat_minor": 2
}
