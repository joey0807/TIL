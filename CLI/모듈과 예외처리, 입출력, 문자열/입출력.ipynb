{
 "cells": [
  {
   "cell_type": "markdown",
   "metadata": {},
   "source": [
    "# 입/출력\n",
    "\n",
    "- 파이썬에서의 입/출력은 크게 3가지\n",
    "\n",
    "    1. 표준 입/출력\n",
    "    2. 파일 입/출력\n",
    "    3. 네트워크 통신(네트워크 장치를 통한 입/출력)\n",
    "   \n",
    "## 표준 입/출력\n",
    "\n",
    "- 환경과 상관없이 언제나 동일한 입/출력을 할 수 있어야 한다\n",
    "- 표준 입력장치 = 키보드 정도\n",
    "- 표준 출력장치 = 모니터 정도\n",
    "  \n",
    "### 표준 입력\n",
    "\n",
    "- 키보드로부터 입력을 받는 경우\n",
    "- input() 함수를 통해서 표준 입력을 받을 수 있다\n",
    "  - 블록 함수\n",
    "  - 사용자가 입력을 할 때 까지 무한히 대기\n",
    "  - 입력의 끝\n",
    "    - 뉴라인(LF, \\n, 0x0a)\n",
    "    - EOF\n",
    "  - input()은 기본적으로 한 번에 한 라인을 입력\n",
    "- input()은 입력받은 내용을 `문자열` 형태로 돌려줌\n",
    "  - 입력한 모든 내용은 문자열이 된다\n",
    "    - 숫자나 문자열 이스케이프는 통하지 않음\n",
    "  - 여러 라인을 입력받고 싶다면, input()을 라인 수만큼 실행"
   ]
  },
  {
   "cell_type": "code",
   "execution_count": 1,
   "metadata": {},
   "outputs": [
    {
     "data": {
      "text/plain": [
       "'10 \\\\x0a'"
      ]
     },
     "execution_count": 1,
     "metadata": {},
     "output_type": "execute_result"
    }
   ],
   "source": [
    "#숫자를 입력해도 문자열이 됨\n",
    "#숫자는 입력할 수 없음\n",
    "input()"
   ]
  },
  {
   "cell_type": "code",
   "execution_count": 2,
   "metadata": {},
   "outputs": [
    {
     "data": {
      "text/plain": [
       "'1234'"
      ]
     },
     "execution_count": 2,
     "metadata": {},
     "output_type": "execute_result"
    }
   ],
   "source": [
    "#prompt\n",
    "input('입력해주세요 : ')"
   ]
  },
  {
   "cell_type": "markdown",
   "metadata": {},
   "source": [
    "### 표준 출력\n",
    "\n",
    "- print()는 파이썬의 표준 출력 함수\n",
    "  - 표준 출력 장치(모니터)로 출력을 보내주는 것\n",
    "- display()는 표준 출력 함수가 아님\n",
    "  - display는 표준 출력 장치로 출력을 내보내지 않음\n",
    "- print()의 원형\n",
    "\n",
    "```\n",
    "print(*objects, sep=' ', end='\\n', file=sys.stdout, flush=False)\n",
    "```"
   ]
  },
  {
   "cell_type": "code",
   "execution_count": 3,
   "metadata": {},
   "outputs": [
    {
     "name": "stdout",
     "output_type": "stream",
     "text": [
      "1 2 3 4 5 6\n"
     ]
    }
   ],
   "source": [
    "#print함수의 첫 번째 매개변수는 가변인자\n",
    "#출력하고 싶은 내용이 몇개이든 상관없이 출력이 가능\n",
    "print(1,2,3,4,5,6,)"
   ]
  },
  {
   "cell_type": "code",
   "execution_count": 4,
   "metadata": {},
   "outputs": [
    {
     "name": "stdout",
     "output_type": "stream",
     "text": [
      "hello/python\n"
     ]
    }
   ],
   "source": [
    "#print함수의 sep 매개변수의 기본값은 공백\n",
    "print('hello','python',sep='/')"
   ]
  },
  {
   "cell_type": "code",
   "execution_count": 5,
   "metadata": {},
   "outputs": [
    {
     "name": "stdout",
     "output_type": "stream",
     "text": [
      "hello python\n"
     ]
    }
   ],
   "source": [
    "#print함수의 end 매개변수의 기본값은 뉴라인\n",
    "print('hello', end=' ')\n",
    "print('python')"
   ]
  },
  {
   "cell_type": "markdown",
   "metadata": {},
   "source": [
    "## 파일 입/출력\n",
    "\n",
    "- 표준이 빠짐\n",
    "  - 입/출력이 정해져 있지 않음\n",
    "  - 입력과 출력을 정해줘야 함\n",
    "    - 입력과 출력이 표준 장치에서 파일로 바뀐 것\n",
    "\n",
    "- 입/출력을 하기 위한 객체를 따로 생성\n",
    "  - open()을 통해서 입/출력 객체를 따로 생성\n",
    "  - 표준 입/출력 장치에 대한 객체가 같이 만들어짐\n",
    "\n",
    "- open()함수 원형\n",
    "\n",
    "```\n",
    "open(file, mode='r', buffering=-1, encoding=None, errors=None, newline=None, closefd=True, opener=None)\n",
    "```\n",
    "\n",
    "- open 함수의 매개변수\n",
    "  - file : 읽거나 쓸 파일에 대한 경로\n",
    "  - mode : 읽기, 쓰기, 추가, 바이너리, ...\n",
    "  - encoding : 읽거나 쓸 파일의 인코딩 셋을 지정\n",
    "    - 파이썬의 기본 인코딩 : UTF-8"
   ]
  },
  {
   "cell_type": "markdown",
   "metadata": {},
   "source": [
    "### 파일 입력(읽기)\n",
    "\n",
    "```\n",
    "#파일 입력을 위한 객체 생성\n",
    "#open()을 통해서 해당 객체를 얻어와야 함\n",
    "readFile = open('/content/sample_data/README.md', 'r')\n",
    "\n",
    "#생성된 객체를 통해서 파일 입력을 받을 수 있음\n",
    "#input이 아닌 파일 클래스에서 정의된 read 메소드를 이용해서 파일의 내용을 읽어올 수 있음\n",
    "print(readFile.read())\n",
    "```"
   ]
  },
  {
   "cell_type": "markdown",
   "metadata": {},
   "source": [
    "```\n",
    "#다 처리가 완료되면 생성된 객체는 닫아줘야 함\n",
    "#메모리에서 제거하는 것\n",
    "readFile.close()\n",
    "```"
   ]
  },
  {
   "cell_type": "markdown",
   "metadata": {},
   "source": [
    "### 파일 출력(쓰기)\n",
    "\n",
    "- 파일을 쓰기 위해서 객체를 생성하면\n",
    "  - 해당 파일이 없으면 파일을 새로 생성\n",
    "  - 해당 파일이 있으면 기존의 파일은 삭제되고, 새로 생성(주의!)\n",
    "  \n",
    "```\n",
    "#똑같이 open을 통해서 쓰기용 파일 객체를 생성\n",
    "writeFile = open('content/sample_data/README.md', 'w')\n",
    "```\n",
    "\n",
    "쓰기 모드일 경우\n",
    "- 읽기 모드의 `read()`처럼 `write()` 메소드를 이용해서 파일에 내용을 쓸 수 있음\n",
    "- print()를 이용해서 표준 출력을 파일 출력으로 바꿀 수 있음\n",
    "  \n",
    "```\n",
    "#file 매개변수의 값을 쓰기용 파일 객체로 변경\n",
    "#화면으로는 출력이 안되고 파일에 출력(쓰기)\n",
    "print('hello python',file=writeFile)\n",
    "```\n",
    "\n",
    "입/출력이 너무 빈번하게 발생하면 부하가 많이 생김\n",
    "- 보통 입/출력은 한번에 처리\n",
    "  - 생성했던 장치를 닫으면, 일괄적으로 파일에 기록\n",
    "  - 메모리가 일정 크기 이상 사용이 되면, 파일에 기록\n",
    "\n",
    "```\n",
    "#생성된 파일 객체를 닫으면, 메모리에 있던 값을 한번에 파일에 기록\n",
    "writeFile.close()\n",
    "```\n",
    "\n",
    "print의 flush를 이요하면, 바로바로 파일에 출력한다\n",
    "- write() 메소드를 사용하는 경우에는 flush를 지원하지 않음\n",
    "  \n",
    "```\n",
    "print('hello python', file=writeFile, flush=True)\n",
    "```\n",
    "\n",
    "write()메소드는 flush가 없음\n",
    "\n",
    "```\n",
    "#write가 돌려주는 값은 파일에 쓴 몬자열의 길이\n",
    "writeFile.write('hello python')\n",
    "```\n",
    "\n",
    "```\n",
    "12\n",
    "```\n",
    "\n",
    "```\n",
    "writeFile.close()\n",
    "```"
   ]
  },
  {
   "cell_type": "markdown",
   "metadata": {},
   "source": [
    "### 주의사항\n",
    "- 파일 입/출력에서는 open과 close가 중요한데, 맞춰주기가 쉽지 않음\n",
    "- 그래서 파이썬은 `with` 문법을 지원\n",
    "  - 자동으로 열린 객체를 닫아주기 때문에 더 안전하게 사용 가능\n",
    "- 파이썬에서 파일 입/출력은 `with`와 함께 사용하는 것이 권장됨\n",
    "\n",
    "```\n",
    "with open('content/sample_data/README.md', 'w') as file:\n",
    "    file.write('새로 기록되는 파일 내용')\n",
    "```\n",
    "\n",
    "```\n",
    "with open('content/sample_data/README.md', 'r') as file:\n",
    "    print(file.read())\n",
    "```\n",
    "\n",
    "```\n",
    "새로 기록되는 파일 내용\n",
    "```"
   ]
  }
 ],
 "metadata": {
  "interpreter": {
   "hash": "ce8ad003cbacc730e5ae8e25e04f0b81855cad91beef114a29a8b1ddf1550b22"
  },
  "kernelspec": {
   "display_name": "Python 3.9.7 64-bit ('base': conda)",
   "language": "python",
   "name": "python3"
  },
  "language_info": {
   "codemirror_mode": {
    "name": "ipython",
    "version": 3
   },
   "file_extension": ".py",
   "mimetype": "text/x-python",
   "name": "python",
   "nbconvert_exporter": "python",
   "pygments_lexer": "ipython3",
   "version": "3.9.7"
  },
  "orig_nbformat": 4
 },
 "nbformat": 4,
 "nbformat_minor": 2
}
