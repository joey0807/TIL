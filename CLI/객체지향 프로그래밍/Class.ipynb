{
 "cells": [
  {
   "cell_type": "markdown",
   "metadata": {},
   "source": [
    "# 클래스의 구조\n",
    "- 속성과 기능으로 정의될 수 있다\n",
    "  - 클래스 내부에서 정의되는 변수 : 클래스 속성\n",
    "  - 클래스 내부에서 정의되는 함수 : 클래스 기능\n",
    "  - 한 클래스는 여러 개의 속성과 기능으로 정의될 수 있다\n",
    "    - 이떄, 속성과 기능은 클래스의 특징을 반영\n",
    "  - 클래스 내에서 정의된 함수를 `메소드`라고 표현\n",
    "    - 표현을 다르게 할 뿐이고, 동작은 동일\n",
    "    - 클래스 내부에서 정의된 경우와 그렇지 않은 경우를 구분해서 표현\n",
    "  - 변수\n",
    "    - 전역, 지역, 클래스 변수, 객체 변수\n",
    "    - 클래스 변수 : 클래스 내에서 정의되는 변수\n",
    "    - 객체 변수 : 객체 내에서 정의되는 변수"
   ]
  },
  {
   "cell_type": "markdown",
   "metadata": {},
   "source": [
    "아무것도 없는 빈 클래스 정의"
   ]
  },
  {
   "cell_type": "code",
   "execution_count": 1,
   "metadata": {},
   "outputs": [],
   "source": [
    "#사람이라는 클래스를 정의\n",
    "#사람을 모델로 해서 클래스를 정의하는 방법\n",
    "\n",
    "class Person():\n",
    "    pass #파이썬은 클래스도 빈 블럭을 허용하지 않음"
   ]
  },
  {
   "cell_type": "code",
   "execution_count": 2,
   "metadata": {},
   "outputs": [
    {
     "data": {
      "text/plain": [
       "<__main__.Person at 0x2647a614130>"
      ]
     },
     "execution_count": 2,
     "metadata": {},
     "output_type": "execute_result"
    }
   ],
   "source": [
    "#객체 생성(함수를 호출하듯이 클래스를 호출)\n",
    "#파이썬 인터프리터는 생성된 객체를 돌려줌\n",
    "Person()"
   ]
  },
  {
   "cell_type": "markdown",
   "metadata": {},
   "source": [
    "__main__.Person     at     0x2647a614130\n",
    "---------------            -------------\n",
    "객체의 타입(어떤 클래스)   객체가 생성된 주소"
   ]
  },
  {
   "cell_type": "code",
   "execution_count": 3,
   "metadata": {},
   "outputs": [
    {
     "data": {
      "text/plain": [
       "<__main__.Person at 0x2647a548040>"
      ]
     },
     "execution_count": 3,
     "metadata": {},
     "output_type": "execute_result"
    }
   ],
   "source": [
    "#이런 방식으로는 객체를 사용할 수 없음\n",
    "#객체가 만들어진 위치를 확인할 순 있지만, 참조는 불가능\n",
    "#변수가 꼭 필요함\n",
    "\n",
    "obj = Person()\n",
    "obj"
   ]
  },
  {
   "cell_type": "markdown",
   "metadata": {},
   "source": [
    "변수를 통한 객체의 참조\n",
    "- 일반적으로 객체지향 프로그래밍에서는 변수를 하나의 객체로 동일하게 취급\n",
    "- 정확하게는 변수와 객체는 구분이 가능하지만, 변수를 객체와 동일시 하게 됨\n",
    "- 변수 자체를 하나의 객체로 취급"
   ]
  },
  {
   "cell_type": "markdown",
   "metadata": {},
   "source": [
    "사실 모든 것이 객체"
   ]
  },
  {
   "cell_type": "code",
   "execution_count": 4,
   "metadata": {},
   "outputs": [
    {
     "data": {
      "text/plain": [
       "10"
      ]
     },
     "execution_count": 4,
     "metadata": {},
     "output_type": "execute_result"
    }
   ],
   "source": [
    "#변수의 정의는 알고보면 객체 생성과 동일\n",
    "a = 10\n",
    "a"
   ]
  },
  {
   "cell_type": "code",
   "execution_count": 5,
   "metadata": {},
   "outputs": [
    {
     "data": {
      "text/plain": [
       "10"
      ]
     },
     "execution_count": 5,
     "metadata": {},
     "output_type": "execute_result"
    }
   ],
   "source": [
    "#표현만 다르지 동일한 객체의 생성\n",
    "#a는 10이라는 숫자 하나를 가지고 있는 객체\n",
    "a = int(10)\n",
    "a"
   ]
  },
  {
   "cell_type": "code",
   "execution_count": 6,
   "metadata": {},
   "outputs": [
    {
     "data": {
      "text/plain": [
       "<function print>"
      ]
     },
     "execution_count": 6,
     "metadata": {},
     "output_type": "execute_result"
    }
   ],
   "source": [
    "#함수도 객체\n",
    "print"
   ]
  },
  {
   "cell_type": "markdown",
   "metadata": {},
   "source": [
    "얕은 복사 VS 깊은 복사\n",
    "- 리스트도 객체이고, 새로 정의한 Person 타입의 객체도 객체이기 때문에\n",
    "- 동일하게 동작함"
   ]
  },
  {
   "cell_type": "code",
   "execution_count": 7,
   "metadata": {},
   "outputs": [],
   "source": [
    "장동건 = Person()\n",
    "원빈 = Person()"
   ]
  },
  {
   "cell_type": "code",
   "execution_count": 8,
   "metadata": {},
   "outputs": [
    {
     "name": "stdout",
     "output_type": "stream",
     "text": [
      "<__main__.Person object at 0x000002647A623430>\n",
      "<__main__.Person object at 0x000002647A60A9A0>\n"
     ]
    }
   ],
   "source": [
    "print(장동건)\n",
    "print(원빈)"
   ]
  },
  {
   "cell_type": "code",
   "execution_count": 9,
   "metadata": {},
   "outputs": [],
   "source": [
    "#다른 메모리로 복사하게 되면, 주소가 복사됨\n",
    "#얕은 복사\n",
    "#두 객체는 같은 객체가 된다\n",
    "고소영 = 장동건"
   ]
  },
  {
   "cell_type": "code",
   "execution_count": 10,
   "metadata": {},
   "outputs": [
    {
     "name": "stdout",
     "output_type": "stream",
     "text": [
      "<__main__.Person object at 0x000002647A623430>\n",
      "<__main__.Person object at 0x000002647A623430>\n"
     ]
    }
   ],
   "source": [
    "print(고소영)\n",
    "print(장동건)"
   ]
  },
  {
   "cell_type": "markdown",
   "metadata": {},
   "source": [
    "모든건 주소를 기준으로 구분\n",
    "- 변수, 함수, 클래스, 객체 모든 것이 메모리의 주소(위치)를 기준으로 구분\n",
    "- 같아 보이는 객체도 주소가 다르면 다른 객체\n",
    "- 달라 보이는 객체도 주소가 같으면 같은 객체"
   ]
  },
  {
   "cell_type": "markdown",
   "metadata": {},
   "source": [
    "## 객체 변수\n",
    "- 객체가 없으면 정의할 수 없다\n",
    "  - 객체가 생성된 이후에 정의될 수 있다\n",
    "- 같은 타입이라고 해도, 객체와 객체 간에는 객체변수를 서로 공유하지 않음\n",
    "  - 객체 고유의 변수\n",
    "  - 객체변수라고 부름"
   ]
  },
  {
   "cell_type": "code",
   "execution_count": 11,
   "metadata": {},
   "outputs": [],
   "source": [
    "#1. 객체가 먼저 생성되어야 함\n",
    "장돈건 = Person()"
   ]
  },
  {
   "cell_type": "code",
   "execution_count": 12,
   "metadata": {},
   "outputs": [],
   "source": [
    "#2.만들어진 객체를 통해서 변수를 정의\n",
    "장동건.name = '장동건'\n",
    "장동건.age = 20"
   ]
  },
  {
   "cell_type": "code",
   "execution_count": 13,
   "metadata": {},
   "outputs": [
    {
     "name": "stdout",
     "output_type": "stream",
     "text": [
      "장동건\n",
      "20\n"
     ]
    }
   ],
   "source": [
    "#객체를 통해서 정의된 객체변수를 참조\n",
    "print(장동건.name)\n",
    "print(장동건.age)"
   ]
  },
  {
   "cell_type": "markdown",
   "metadata": {},
   "source": [
    "파이썬에서 `.` 의 의미\n",
    "- 네임 스페이스의 역할\n",
    "- 참조하려는 변수, 함수 또는 클래스가 어디에 정의되어 있는지를 표현\n",
    "  - 변수를 예로 들면, 변수가 객체 내에서 정의된 변수일 수도 있고\n",
    "  - 클래스에서 정의된 변수, 혹은 다른 파이썬 소스파일에서 정의된 변수일 수 있음\n",
    "    - 이름이 같으면 충돌이 발생(구분을 할 수 없음)\n",
    "  - `객체.변수` : 객체의 멤버\n",
    "  - `클래스.변수`\n",
    "  - `모듈.변수`"
   ]
  },
  {
   "cell_type": "markdown",
   "metadata": {},
   "source": [
    "## 클래스 변수\n",
    "- 객체와는 무관한 변수\n",
    "  - 객체 없이도 참조 가능한 변수\n",
    "- 클래스 내부, 메소드 외부에 정의가 되면 `클래스 변수`가 된다\n",
    "- 공유 변수\n",
    "  - 모든 객체가 하나의 동일한 클래스 변수를 참조"
   ]
  },
  {
   "cell_type": "code",
   "execution_count": 14,
   "metadata": {},
   "outputs": [],
   "source": [
    "class Person:\n",
    "    #한국 국적을 가지고 있는 사람을 가정\n",
    "    nation = 'Korea'"
   ]
  },
  {
   "cell_type": "code",
   "execution_count": 15,
   "metadata": {},
   "outputs": [
    {
     "data": {
      "text/plain": [
       "'Korea'"
      ]
     },
     "execution_count": 15,
     "metadata": {},
     "output_type": "execute_result"
    }
   ],
   "source": [
    "#객체와 상관없이 클래스를 통해서 참조\n",
    "Person.nation"
   ]
  },
  {
   "cell_type": "markdown",
   "metadata": {},
   "source": [
    "클래스 변수는 클래스를 통해서만 접근하도록 해야 한다\n",
    "- 굳이 객체를 통해서 클래스 변수를 참조해야만 하는 그런 상황은 없음\n",
    "- 파이썬이 허용한다 해도 사용하지 않는 것이 좋음\n",
    "- 클래스 변수는 클래스를 통해서만 참조하고\n",
    "- 객체 변수는 객체를 통해서만 참조하면 아무 문제가 없다!"
   ]
  },
  {
   "cell_type": "markdown",
   "metadata": {},
   "source": [
    "## 메소드(Method)\n",
    "- 그냥 함수\n",
    "- 클래스 내에서 정의된 함수와 구분하기 위해 다르게 부름\n",
    "- 함수의 특징은 동일함"
   ]
  },
  {
   "cell_type": "code",
   "execution_count": 16,
   "metadata": {},
   "outputs": [],
   "source": [
    "class Person:\n",
    "    nation = 'Korea'\n",
    "\n",
    "    #메소드의 첫번째 파라미터는 무조건 self가 된다\n",
    "    def method(self):\n",
    "        print('함수와 동일합니다')\n",
    "        print('클래스 내에서 정의가 됐을 뿐')"
   ]
  },
  {
   "cell_type": "code",
   "execution_count": 17,
   "metadata": {},
   "outputs": [
    {
     "name": "stdout",
     "output_type": "stream",
     "text": [
      "함수와 동일합니다\n",
      "클래스 내에서 정의가 됐을 뿐\n"
     ]
    }
   ],
   "source": [
    "#메소드는 객체를 통해서만 호출이 가능\n",
    "장동건 = Person()\n",
    "장동건.method()"
   ]
  },
  {
   "cell_type": "markdown",
   "metadata": {},
   "source": [
    "### self\n",
    "- `객체 자기 자신`을 의미한다고 하는데...\n",
    "- 함수의 실행\n",
    "  - 함수는 호출이 되면 실행 => 메모리에 생성\n",
    "  - 메소드는 객체가 먼저 만들어져야 메소드를 호출 => 실행 => 메모리에 생성\n",
    "  - 객체가 생성되는 시점과 메소드가 호출이 되어 메모리에 만들어지는 시점이 다르게 됨\n",
    "  - 메소드를 호출할 때에는, 어떤 객체가 호출했는지 알 수 있도록 파라미터를 통해서 객체를 전달\n",
    "    - 직접 전달하지 않음\n",
    "    - 파이썬 인터프리터에 의해서 자동으로 전달\n",
    "  - 메소드는 반드시 첫 번째 파라미터로 `self`를 정의해야 한다\n",
    "  - 메소드는 self를 통해서 호출한 객체를 구분"
   ]
  },
  {
   "cell_type": "code",
   "execution_count": 18,
   "metadata": {},
   "outputs": [],
   "source": [
    "class Person:\n",
    "    nation = 'Korea'\n",
    "\n",
    "    def method(self):\n",
    "        #self로 뭐가 넘어오는가\n",
    "        print('self is ', self)"
   ]
  },
  {
   "cell_type": "code",
   "execution_count": 19,
   "metadata": {},
   "outputs": [
    {
     "name": "stdout",
     "output_type": "stream",
     "text": [
      "self is  <__main__.Person object at 0x000002647A623DC0>\n"
     ]
    }
   ],
   "source": [
    "장동건 = Person()\n",
    "\n",
    "#self에 대한 입력을 넣어준 적이 없지만\n",
    "#파이썬 인터프리터에 의해서 무조건 전달\n",
    "장동건.method()#self는 직접 전달하지 않음"
   ]
  },
  {
   "cell_type": "code",
   "execution_count": 20,
   "metadata": {},
   "outputs": [
    {
     "data": {
      "text/plain": [
       "<__main__.Person at 0x2647a623dc0>"
      ]
     },
     "execution_count": 20,
     "metadata": {},
     "output_type": "execute_result"
    }
   ],
   "source": [
    "장동건"
   ]
  },
  {
   "cell_type": "markdown",
   "metadata": {},
   "source": [
    "같은 표현\n",
    "- 객체.attribute 와 self.attribute 는 같은 표현\n",
    "  - 객체를 통해서 속성(변수)에 대한 참조를 하는 것과\n",
    "  - 메소드 내에서 self를 통해서 속성(변수)에 대한 참조를 하는 것은 같다"
   ]
  },
  {
   "cell_type": "markdown",
   "metadata": {},
   "source": [
    "self 이외의 파라미터가 있다면\n",
    "- self를 제외한 나머지 파라미터는 입력값을 전달"
   ]
  },
  {
   "cell_type": "code",
   "execution_count": 21,
   "metadata": {},
   "outputs": [],
   "source": [
    "class Person:\n",
    "    nation = 'Korea'\n",
    "\n",
    "    def method(self, a, b):\n",
    "        return a+b"
   ]
  },
  {
   "cell_type": "code",
   "execution_count": 22,
   "metadata": {},
   "outputs": [
    {
     "data": {
      "text/plain": [
       "30"
      ]
     },
     "execution_count": 22,
     "metadata": {},
     "output_type": "execute_result"
    }
   ],
   "source": [
    "장동건 = Person()\n",
    "\n",
    "#self를 제외한 나머지 입력값만 전달\n",
    "장동건.method(10,20)"
   ]
  },
  {
   "cell_type": "markdown",
   "metadata": {},
   "source": [
    "### 특별한 메소드들\n",
    "- 매직 메소드\n",
    "  - 특별한 의미를 가지고 있는 미리 정의된 메소드들이 있음\n",
    "  - 메소드 이름 앞뒤에 `__`(더블언더바/더블언더스코어/던더)가 붙어있는 메소드\n",
    "  - 던더 메소드라고도 부름"
   ]
  },
  {
   "cell_type": "code",
   "execution_count": 23,
   "metadata": {},
   "outputs": [],
   "source": [
    "#클래스를 정의할 떄, 내부에 아무것도 정의를 하지 않아도\n",
    "#기본적인 클래스로써 동작을 하게됨(상속)\n",
    "\n",
    "class Person:\n",
    "    pass"
   ]
  },
  {
   "cell_type": "code",
   "execution_count": 24,
   "metadata": {},
   "outputs": [
    {
     "data": {
      "text/plain": [
       "['__class__',\n",
       " '__delattr__',\n",
       " '__dict__',\n",
       " '__dir__',\n",
       " '__doc__',\n",
       " '__eq__',\n",
       " '__format__',\n",
       " '__ge__',\n",
       " '__getattribute__',\n",
       " '__gt__',\n",
       " '__hash__',\n",
       " '__init__',\n",
       " '__init_subclass__',\n",
       " '__le__',\n",
       " '__lt__',\n",
       " '__module__',\n",
       " '__ne__',\n",
       " '__new__',\n",
       " '__reduce__',\n",
       " '__reduce_ex__',\n",
       " '__repr__',\n",
       " '__setattr__',\n",
       " '__sizeof__',\n",
       " '__str__',\n",
       " '__subclasshook__',\n",
       " '__weakref__']"
      ]
     },
     "execution_count": 24,
     "metadata": {},
     "output_type": "execute_result"
    }
   ],
   "source": [
    "#dir 명령을 통해서 클래스에 정의된 매직 메소드를 확인할 수 있다\n",
    "dir(Person)"
   ]
  },
  {
   "cell_type": "markdown",
   "metadata": {},
   "source": [
    "#### 생성자\n",
    "- 생성 메소드 정도로 이해(Constructor)\n",
    "  - `__init__`\n",
    "  - 객체가 생성될 때, 인터프리터에 의해서 자동으로 호출되는 메소드\n",
    "- 객체변수의 초기화\n",
    "  - 객체가 생성될 때, 모든 객체가 동일한 속성을 가지게 하고 싶다면\n",
    "    - 객체변수는 미리 정의할 수 없다\n",
    "    - 객체가 생성된 이후에 정의가 가능\n",
    "    - 생성자는 언제 실행?\n",
    "      - 객체가 생성될 때\n",
    "      - 즉, 생성자가 실행이 되었다는 것은 객체가 만들어진 것\n",
    "      - 생성자를 통해서 객체변수에 대한 초기화를 해볼 수 있다"
   ]
  },
  {
   "cell_type": "code",
   "execution_count": 25,
   "metadata": {},
   "outputs": [],
   "source": [
    "class Person:\n",
    "    nation = 'Korea'\n",
    "\n",
    "    #이미 정해져 있으므로 바꿀 수 없다\n",
    "    def __init__(self):\n",
    "        print('call __init__')\n",
    "\n",
    "    def method(self, a , b):\n",
    "        return a + b"
   ]
  },
  {
   "cell_type": "code",
   "execution_count": 26,
   "metadata": {},
   "outputs": [
    {
     "name": "stdout",
     "output_type": "stream",
     "text": [
      "call __init__\n"
     ]
    }
   ],
   "source": [
    "장동건 = Person()"
   ]
  },
  {
   "cell_type": "markdown",
   "metadata": {},
   "source": [
    "생성자를 통한 객체변수의 초기화"
   ]
  },
  {
   "cell_type": "code",
   "execution_count": 27,
   "metadata": {},
   "outputs": [],
   "source": [
    "class Person:\n",
    "    nation = 'Korea'\n",
    "\n",
    "    def __init__(self):\n",
    "        print('call __init__')\n",
    "\n",
    "    def method(self, a , b):\n",
    "        return a + b"
   ]
  },
  {
   "cell_type": "markdown",
   "metadata": {},
   "source": [
    "생성자 매개변수 정의 및 전달"
   ]
  },
  {
   "cell_type": "code",
   "execution_count": 28,
   "metadata": {},
   "outputs": [],
   "source": [
    "class Person:\n",
    "    nation = 'Korea'\n",
    "\n",
    "    #생성자를 호출할 때, 입력값을 전달받고\n",
    "    #전달받은 값으로 객체변수를 초기화\n",
    "    def __init__(self, name, age):\n",
    "        \n",
    "        #메소드 내에서 정의된 변수는 지역변수\n",
    "        #매개변수도 지역변수\n",
    "        #self.변수는 객체변수\n",
    "        self.name = name\n",
    "        self.age = age\n",
    "\n",
    "    def method(self, a, b):\n",
    "        return a + b"
   ]
  },
  {
   "cell_type": "code",
   "execution_count": 29,
   "metadata": {},
   "outputs": [],
   "source": [
    "#객체를 생성할 때, self를 제외한 나머지 입력값을 전달\n",
    "장동건 = Person('장동건',20)\n",
    "원빈 = Person('원빈', 22)"
   ]
  },
  {
   "cell_type": "markdown",
   "metadata": {},
   "source": [
    "#### 연산자\n",
    "- 파이썬에서는 `연산자 오버로딩` 이라고 함\n",
    "- 매직 메소드를 이용해서 연산자에 대한 다양한 형태(다형성)를 제공"
   ]
  },
  {
   "cell_type": "code",
   "execution_count": 30,
   "metadata": {},
   "outputs": [
    {
     "data": {
      "text/plain": [
       "[1, 2, 3, 4, 5, 6]"
      ]
     },
     "execution_count": 30,
     "metadata": {},
     "output_type": "execute_result"
    }
   ],
   "source": [
    "#시퀀스 타입에서 덧셈과 곱셈이 가능한 이유\n",
    "#리스트 클래스 내에서 __add__, __mull__ 이 두 매직 메소드를 새로 정의\n",
    "[1,2,3]+[4,5,6]"
   ]
  },
  {
   "cell_type": "code",
   "execution_count": 31,
   "metadata": {},
   "outputs": [],
   "source": [
    "class Person:\n",
    "    nation = 'Korea'\n",
    "\n",
    "    def __init__(self, name, age):\n",
    "        self.name = name\n",
    "        self.age = age\n",
    "    \n",
    "    def __add__(self, obj):\n",
    "        print('덧셈처럼 보이지만 메소드 호출!')\n",
    "        return(self.name + obj.name, self.age + obj.age)\n",
    "\n",
    "    def method(self, a, b):\n",
    "        return a+b"
   ]
  },
  {
   "cell_type": "code",
   "execution_count": 32,
   "metadata": {},
   "outputs": [
    {
     "name": "stdout",
     "output_type": "stream",
     "text": [
      "덧셈처럼 보이지만 메소드 호출!\n",
      "('장동건원빈', 42)\n"
     ]
    }
   ],
   "source": [
    "장동건 = Person('장동건', 20)\n",
    "원빈 = Person('원빈', 22)\n",
    "\n",
    "print(장동건 + 원빈)"
   ]
  },
  {
   "cell_type": "markdown",
   "metadata": {},
   "source": [
    "#### 함수\n",
    "- 파이썬에서는 함수도 객체\n",
    "- function 클래스로 만들어진 객체라고 보면 됨\n",
    "- function 클래스의 객체는 `()`를 붙여서 호출하게 되는데\n",
    "- 이것도 매직 메소드의 하나"
   ]
  },
  {
   "cell_type": "code",
   "execution_count": 33,
   "metadata": {},
   "outputs": [],
   "source": [
    "class UserFunction:\n",
    "\n",
    "    #기본적으로는 __call__매직 메소드가 구현된 클래스의 객체가 함수가 된다\n",
    "    def __call__(self):\n",
    "        print('함수가 호출되었습니다')"
   ]
  },
  {
   "cell_type": "code",
   "execution_count": 34,
   "metadata": {},
   "outputs": [
    {
     "name": "stdout",
     "output_type": "stream",
     "text": [
      "함수가 호출되었습니다\n"
     ]
    }
   ],
   "source": [
    "function = UserFunction()\n",
    "function()"
   ]
  },
  {
   "cell_type": "markdown",
   "metadata": {},
   "source": [
    "#### 파이썬의 다양한 매직 메소드들\n",
    "- [데이터 모델](https://docs.python.org/ko/3.7/reference/datamodel.html#special-method-names)\n",
    "- 더 많은 자료는 위 링크에서 확인!"
   ]
  },
  {
   "cell_type": "markdown",
   "metadata": {},
   "source": []
  }
 ],
 "metadata": {
  "interpreter": {
   "hash": "ce8ad003cbacc730e5ae8e25e04f0b81855cad91beef114a29a8b1ddf1550b22"
  },
  "kernelspec": {
   "display_name": "Python 3.9.7 64-bit ('base': conda)",
   "language": "python",
   "name": "python3"
  },
  "language_info": {
   "codemirror_mode": {
    "name": "ipython",
    "version": 3
   },
   "file_extension": ".py",
   "mimetype": "text/x-python",
   "name": "python",
   "nbconvert_exporter": "python",
   "pygments_lexer": "ipython3",
   "version": "3.9.7"
  },
  "orig_nbformat": 4
 },
 "nbformat": 4,
 "nbformat_minor": 2
}
