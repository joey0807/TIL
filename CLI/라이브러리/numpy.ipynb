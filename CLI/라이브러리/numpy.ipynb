{
 "cells": [
  {
   "cell_type": "markdown",
   "metadata": {},
   "source": [
    "# Numpy\n",
    "\n",
    "- 수치해석용으로 만들어진 모듈\n",
    "  - ML/DL에서 많이 사용\n",
    "  - 판다스도 자료의 기본 타입은 numpy를 사용\n",
    "- 수학적 계산을 돕기 위해 만들어진 라이브러리"
   ]
  },
  {
   "cell_type": "code",
   "execution_count": 1,
   "metadata": {},
   "outputs": [],
   "source": [
    "import numpy as np"
   ]
  },
  {
   "cell_type": "markdown",
   "metadata": {},
   "source": [
    "# Numpy에서 지원하는 타입\n",
    "\n",
    "1. array(배열)\n",
    "   - 통계분석이나 ML/DL에서 많이 사용\n",
    "   - 파이썬 리스트와는 다름\n",
    "2. matrix\n",
    "   - 수학적 계산이 필요한 경우에 많이 사용\n",
    "\n",
    "## 베열의 기본 속성\n",
    "\n",
    "- ndim\n",
    "  - 배열의 차원\n",
    "- shape\n",
    "  - 배열의 크기를 나타내고, 배열의 크기는 원소의 개수와 동일\n",
    "  - 배열의 모양은 튜플로 표현\n",
    "\n",
    "\n",
    "### 1차원 배열\n",
    "- 파이썬 리스트와 거의 동일"
   ]
  },
  {
   "cell_type": "code",
   "execution_count": 9,
   "metadata": {},
   "outputs": [
    {
     "data": {
      "text/plain": [
       "array([1, 2, 3, 4])"
      ]
     },
     "execution_count": 9,
     "metadata": {},
     "output_type": "execute_result"
    }
   ],
   "source": [
    "arr1D = np.array([1,2,3,4])\n",
    "arr1D"
   ]
  },
  {
   "cell_type": "markdown",
   "metadata": {},
   "source": [
    "자료의 차원 확인은 매우 중요\n",
    "    - 자료의 차원이 다르면, 알고리즘이 동작하지 않음\n",
    "    - 자료의 차원을 고려해서 사용해야 함"
   ]
  },
  {
   "cell_type": "code",
   "execution_count": 10,
   "metadata": {},
   "outputs": [
    {
     "data": {
      "text/plain": [
       "1"
      ]
     },
     "execution_count": 10,
     "metadata": {},
     "output_type": "execute_result"
    }
   ],
   "source": [
    "arr1D.ndim #배열의 차원"
   ]
  },
  {
   "cell_type": "code",
   "execution_count": 11,
   "metadata": {},
   "outputs": [
    {
     "data": {
      "text/plain": [
       "(4,)"
      ]
     },
     "execution_count": 11,
     "metadata": {},
     "output_type": "execute_result"
    }
   ],
   "source": [
    "arr1D.shape #배열의 크기(모양)"
   ]
  },
  {
   "cell_type": "markdown",
   "metadata": {},
   "source": [
    "### 2차원 배열\n",
    "- 주로 다루게 되는 배열이 2차원\n",
    "- 리스트와 동일하게 배열의 원소로 배열을 갖는 배열 정도로 이해"
   ]
  },
  {
   "cell_type": "code",
   "execution_count": 5,
   "metadata": {},
   "outputs": [
    {
     "data": {
      "text/plain": [
       "array([[1, 2, 3],\n",
       "       [4, 5, 6],\n",
       "       [7, 8, 9]])"
      ]
     },
     "execution_count": 5,
     "metadata": {},
     "output_type": "execute_result"
    }
   ],
   "source": [
    "arr2D = np.array([\n",
    "    [1,2,3],\n",
    "    [4,5,6],\n",
    "    [7,8,9]\n",
    "])\n",
    "arr2D"
   ]
  },
  {
   "cell_type": "code",
   "execution_count": 6,
   "metadata": {},
   "outputs": [
    {
     "data": {
      "text/plain": [
       "2"
      ]
     },
     "execution_count": 6,
     "metadata": {},
     "output_type": "execute_result"
    }
   ],
   "source": [
    "arr2D.ndim"
   ]
  },
  {
   "cell_type": "code",
   "execution_count": 7,
   "metadata": {},
   "outputs": [
    {
     "data": {
      "text/plain": [
       "(3, 3)"
      ]
     },
     "execution_count": 7,
     "metadata": {},
     "output_type": "execute_result"
    }
   ],
   "source": [
    "arr2D.shape #(행, 열)"
   ]
  },
  {
   "cell_type": "markdown",
   "metadata": {},
   "source": [
    "# 배열의 특징\n",
    "\n",
    "- 인덱싱, 슬라이싱(******)\n",
    "- 팬시 인덱싱\n",
    "- 배열의 타입\n",
    "- 넘파에서만 정의되는 특별한 타입"
   ]
  },
  {
   "cell_type": "markdown",
   "metadata": {},
   "source": [
    "## 배열의 인덱싱과 슬라이싱\n",
    "- 리스트와 비슷하지만 표현은 다름 \n",
    "- 기본적인 개념은 리스트와 동일 "
   ]
  },
  {
   "cell_type": "code",
   "execution_count": 12,
   "metadata": {},
   "outputs": [
    {
     "data": {
      "text/plain": [
       "array([1, 2, 3, 4])"
      ]
     },
     "metadata": {},
     "output_type": "display_data"
    },
    {
     "data": {
      "text/plain": [
       "1"
      ]
     },
     "metadata": {},
     "output_type": "display_data"
    },
    {
     "data": {
      "text/plain": [
       "2"
      ]
     },
     "metadata": {},
     "output_type": "display_data"
    },
    {
     "data": {
      "text/plain": [
       "4"
      ]
     },
     "metadata": {},
     "output_type": "display_data"
    }
   ],
   "source": [
    "display( arr1D )\n",
    "display( arr1D[0] )\n",
    "display( arr1D[1] )\n",
    "display( arr1D[-1] )"
   ]
  },
  {
   "cell_type": "code",
   "execution_count": 13,
   "metadata": {},
   "outputs": [
    {
     "name": "stdout",
     "output_type": "stream",
     "text": [
      "1\n",
      "2\n",
      "3\n",
      "4\n"
     ]
    }
   ],
   "source": [
    "#배열도 이터레이블 객체\n",
    "#리스트가 아니기 때문에 리스트에서 제공하는 메소드들은 사용 불가\n",
    "for x in arr1D:\n",
    "  print(x)"
   ]
  },
  {
   "cell_type": "code",
   "execution_count": 14,
   "metadata": {},
   "outputs": [
    {
     "data": {
      "text/plain": [
       "1"
      ]
     },
     "metadata": {},
     "output_type": "display_data"
    },
    {
     "data": {
      "text/plain": [
       "4"
      ]
     },
     "metadata": {},
     "output_type": "display_data"
    }
   ],
   "source": [
    "#내장 함수는 사용 가능\n",
    "display( min( arr1D ) )\n",
    "display( max( arr1D ))"
   ]
  },
  {
   "cell_type": "code",
   "execution_count": 15,
   "metadata": {},
   "outputs": [
    {
     "data": {
      "text/plain": [
       "array([1, 2, 3, 4])"
      ]
     },
     "metadata": {},
     "output_type": "display_data"
    },
    {
     "data": {
      "text/plain": [
       "array([4, 3, 2, 1])"
      ]
     },
     "metadata": {},
     "output_type": "display_data"
    }
   ],
   "source": [
    "# 슬라이스도 리스트때 처럼 동일하게 사용\n",
    "display( arr1D[:] )\n",
    "display( arr1D[::-1] )"
   ]
  },
  {
   "cell_type": "markdown",
   "metadata": {},
   "source": [
    "### 2차원 배열의 인덱싱과 슬라이싱\n",
    "- 인덱싱은 다음과 같이 표현\n",
    "$$\n",
    "  array[행, 열]\n",
    "$$\n",
    "\n",
    "- 슬라이스는 행과 열을 각각 정의\n",
    "\n",
    "$$\n",
    "  array[행시작:행끝, 열시작:열끝]\n",
    "$$"
   ]
  },
  {
   "cell_type": "code",
   "execution_count": 16,
   "metadata": {},
   "outputs": [
    {
     "data": {
      "text/plain": [
       "array([[1, 2, 3],\n",
       "       [4, 5, 6],\n",
       "       [7, 8, 9]])"
      ]
     },
     "metadata": {},
     "output_type": "display_data"
    },
    {
     "data": {
      "text/plain": [
       "1"
      ]
     },
     "metadata": {},
     "output_type": "display_data"
    },
    {
     "data": {
      "text/plain": [
       "2"
      ]
     },
     "metadata": {},
     "output_type": "display_data"
    },
    {
     "data": {
      "text/plain": [
       "5"
      ]
     },
     "metadata": {},
     "output_type": "display_data"
    }
   ],
   "source": [
    "# 2차원 배열의 인덱스\n",
    "display( arr2D )\n",
    "display( arr2D[0, 0] )\n",
    "display( arr2D[0, 1] )\n",
    "display( arr2D[1, 1] )"
   ]
  },
  {
   "cell_type": "code",
   "execution_count": 17,
   "metadata": {},
   "outputs": [
    {
     "data": {
      "text/plain": [
       "array([1, 2, 3])"
      ]
     },
     "metadata": {},
     "output_type": "display_data"
    },
    {
     "data": {
      "text/plain": [
       "array([1, 2, 3])"
      ]
     },
     "metadata": {},
     "output_type": "display_data"
    },
    {
     "data": {
      "text/plain": [
       "array([1, 2, 3])"
      ]
     },
     "metadata": {},
     "output_type": "display_data"
    }
   ],
   "source": [
    "# 배열은 행우선 인덱스를 제공\n",
    "# 판다스와 같은 경우 열 우선 인덱스를 제공\n",
    "display( arr2D[0] )\n",
    "display( arr2D[0,])\n",
    "display( arr2D[0, :])"
   ]
  },
  {
   "cell_type": "code",
   "execution_count": 18,
   "metadata": {},
   "outputs": [
    {
     "data": {
      "text/plain": [
       "array([[1, 2, 3],\n",
       "       [4, 5, 6],\n",
       "       [7, 8, 9]])"
      ]
     },
     "metadata": {},
     "output_type": "display_data"
    },
    {
     "data": {
      "text/plain": [
       "array([2, 5, 8])"
      ]
     },
     "metadata": {},
     "output_type": "display_data"
    }
   ],
   "source": [
    "# 열만 인덱싱 할 수는 없고, 슬라이스를 활용\n",
    "# 전체 행에 대해서 슬라이스를 한 이후에 열을 선택\n",
    "display( arr2D )\n",
    "display( arr2D[:, 1])"
   ]
  },
  {
   "cell_type": "code",
   "execution_count": 19,
   "metadata": {},
   "outputs": [
    {
     "data": {
      "text/plain": [
       "array([[1, 2, 3],\n",
       "       [4, 5, 6],\n",
       "       [7, 8, 9]])"
      ]
     },
     "metadata": {},
     "output_type": "display_data"
    },
    {
     "data": {
      "text/plain": [
       "array([[5, 6],\n",
       "       [8, 9]])"
      ]
     },
     "metadata": {},
     "output_type": "display_data"
    }
   ],
   "source": [
    "# 슬라이스를 잘 활용하면 행과 열을 동시에 슬라이스\n",
    "display( arr2D )\n",
    "display( arr2D[1:, 1:])"
   ]
  },
  {
   "cell_type": "markdown",
   "metadata": {},
   "source": [
    "## 팬시 인덱싱(배열 인덱싱)\n",
    "- 인덱스로 배열을 사용\n",
    "  - 불리언 배열: 불리언(True, False)로 이루어진 배열\n",
    "  - 정수 배열: 정수로 이루어진 배열"
   ]
  },
  {
   "cell_type": "code",
   "execution_count": 20,
   "metadata": {},
   "outputs": [
    {
     "data": {
      "text/plain": [
       "array([1, 2, 3, 4])"
      ]
     },
     "metadata": {},
     "output_type": "display_data"
    },
    {
     "data": {
      "text/plain": [
       "array([1, 3])"
      ]
     },
     "execution_count": 20,
     "metadata": {},
     "output_type": "execute_result"
    }
   ],
   "source": [
    "# 불리언 인덱스\n",
    "# 배열에서 True에 해당하는 값만 선택\n",
    "# 불리언 배열을 조건에 부합하는 결과만 선택할 수 있도록 생성해서 사용\n",
    "display( arr1D )\n",
    "arr1D[ np.array([True, False, True, False]) ] # 배열의 크기와 인덱스 배열의 크기는 동일"
   ]
  },
  {
   "cell_type": "code",
   "execution_count": 21,
   "metadata": {},
   "outputs": [
    {
     "data": {
      "text/plain": [
       "array([1, 2, 3, 4])"
      ]
     },
     "metadata": {},
     "output_type": "display_data"
    },
    {
     "data": {
      "text/plain": [
       "array([2, 2, 2, 2, 2, 2, 2, 2, 1, 1, 1, 1, 3, 3, 3, 3, 3, 3, 4, 4, 4, 4,\n",
       "       4, 3, 2, 2, 2])"
      ]
     },
     "execution_count": 21,
     "metadata": {},
     "output_type": "execute_result"
    }
   ],
   "source": [
    "# 정수 배열\n",
    "# 배열에서 원하는 인덱스를 배열로 생성\n",
    "# 중복 선택이 가능, 배열의 크기와 인덱스 배열의 크기가 달라도 상관 없음\n",
    "display( arr1D )\n",
    "idx = np.array([1, 1, 1, 1, 1, 1, 1, 1, 0, 0, 0, 0, 2, 2, 2, 2, 2, 2, 3, 3, 3, 3, 3, 2, 1, 1, 1])\n",
    "arr1D[ idx ]"
   ]
  },
  {
   "cell_type": "markdown",
   "metadata": {},
   "source": [
    "## 배열의 타입\n",
    "- 리스트와는 다르게 배열은 타입을 가짐 \n",
    "  - 리스트는 여러개의 타입을 원소로 가질 수 있음\n",
    "  - 배열은 하나의 타입만 원소로 가질 수 있음 \n",
    "- 배열은, 배열이 생성될 때, 원소들의 타입을 보고 기본적인 자료의 타입을 결정"
   ]
  },
  {
   "cell_type": "code",
   "execution_count": 30,
   "metadata": {},
   "outputs": [
    {
     "data": {
      "text/plain": [
       "dtype('int32')"
      ]
     },
     "execution_count": 30,
     "metadata": {},
     "output_type": "execute_result"
    }
   ],
   "source": [
    "arr1D.dtype"
   ]
  },
  {
   "cell_type": "markdown",
   "metadata": {},
   "source": [
    "파이썬은 숫자를 표현하는데 한계가 없음 \n",
    "- 라이브러리들은 파이썬만으로만 만들어져있지 않음 \n",
    "  - 속도를 빠르게 하기 위해서 C, C++ 등의 다른 언어로 만들어진 내용도 파이썬에서는 사용이 가능\n",
    "  - 자료의 표현도 한계 발생 가능"
   ]
  },
  {
   "cell_type": "code",
   "execution_count": 28,
   "metadata": {},
   "outputs": [
    {
     "data": {
      "text/plain": [
       "array([1., 2., 3., 4., 5.])"
      ]
     },
     "metadata": {},
     "output_type": "display_data"
    },
    {
     "data": {
      "text/plain": [
       "dtype('float64')"
      ]
     },
     "metadata": {},
     "output_type": "display_data"
    }
   ],
   "source": [
    "# 원소의 타입이 여러개라면\n",
    "# 가장 큰 타입을 기본 타입으로 결정\n",
    "# 타입이 결정되면, 나머지 값들도 결정된 기본타입을 따르게됩니다. \n",
    "arr = np.array([1, 2, 3, 4, 5.0])\n",
    "display(arr)\n",
    "display(arr.dtype)"
   ]
  },
  {
   "cell_type": "code",
   "execution_count": 31,
   "metadata": {},
   "outputs": [
    {
     "data": {
      "text/plain": [
       "array([1., 2., 3., 4., 5.], dtype=float32)"
      ]
     },
     "metadata": {},
     "output_type": "display_data"
    },
    {
     "data": {
      "text/plain": [
       "dtype('float32')"
      ]
     },
     "metadata": {},
     "output_type": "display_data"
    }
   ],
   "source": [
    "# 배열을 생성할 때, 타입을 직접 결정\n",
    "arr = np.array([1, 2, 3, 4, 5], dtype=np.float32 )\n",
    "display( arr )\n",
    "display( arr.dtype )"
   ]
  },
  {
   "cell_type": "markdown",
   "metadata": {},
   "source": [
    "## 넘파이에서만 정의되어 있는 특별한 타입 \n",
    "- 파이썬은 이런 타입 x\n",
    "- inf\n",
    "  - 표현할 수 없는 값\n",
    "  - 함수가 수렴하지 않고, 발산하는 경우(inf, -inf)\n",
    "- NaN(Not a Number)\n",
    "  - 결측치를 표현(비어있는 값)\n",
    "  - 값을 표현할 수 없는 경우"
   ]
  },
  {
   "cell_type": "code",
   "execution_count": 32,
   "metadata": {},
   "outputs": [
    {
     "data": {
      "text/plain": [
       "float"
      ]
     },
     "metadata": {},
     "output_type": "display_data"
    },
    {
     "name": "stderr",
     "output_type": "stream",
     "text": [
      "C:\\Users\\joey0\\AppData\\Local\\Temp/ipykernel_8336/2125569308.py:2: RuntimeWarning: invalid value encountered in true_divide\n",
      "  display( np.array([0]) / np.array([0]) )\n"
     ]
    },
    {
     "data": {
      "text/plain": [
       "array([nan])"
      ]
     },
     "metadata": {},
     "output_type": "display_data"
    },
    {
     "data": {
      "text/plain": [
       "float"
      ]
     },
     "metadata": {},
     "output_type": "display_data"
    },
    {
     "name": "stderr",
     "output_type": "stream",
     "text": [
      "C:\\Users\\joey0\\AppData\\Local\\Temp/ipykernel_8336/2125569308.py:4: RuntimeWarning: divide by zero encountered in log\n",
      "  display( np.log(0) )\n"
     ]
    },
    {
     "data": {
      "text/plain": [
       "-inf"
      ]
     },
     "metadata": {},
     "output_type": "display_data"
    }
   ],
   "source": [
    "display( type( np.NaN ) )\n",
    "display( np.array([0]) / np.array([0]) )\n",
    "display( type(np.inf) )\n",
    "display( np.log(0) )"
   ]
  },
  {
   "cell_type": "markdown",
   "metadata": {},
   "source": [
    "# 배열을 생성하는 방법\n",
    "\n",
    "## 초기화된 배열\n",
    "- 0과 1만 특별히 취급\n",
    "- 원소가 전부 0이거나, 전부 1인 경우에는 선형대수에서는 특별하게 취급"
   ]
  },
  {
   "cell_type": "code",
   "execution_count": 33,
   "metadata": {},
   "outputs": [
    {
     "name": "stderr",
     "output_type": "stream",
     "text": [
      "C:\\Users\\joey0\\AppData\\Local\\Temp/ipykernel_8336/2473274928.py:2: DeprecationWarning: `np.int` is a deprecated alias for the builtin `int`. To silence this warning, use `int` by itself. Doing this will not modify any behavior and is safe. When replacing `np.int`, you may wish to use e.g. `np.int64` or `np.int32` to specify the precision. If you wish to review your current use, check the release note link for additional information.\n",
      "Deprecated in NumPy 1.20; for more details and guidance: https://numpy.org/devdocs/release/1.20.0-notes.html#deprecations\n",
      "  np.zeros(10, dtype=np.int)\n"
     ]
    },
    {
     "data": {
      "text/plain": [
       "array([0, 0, 0, 0, 0, 0, 0, 0, 0, 0])"
      ]
     },
     "execution_count": 33,
     "metadata": {},
     "output_type": "execute_result"
    }
   ],
   "source": [
    "# 0으로 초기화된 배열\n",
    "np.zeros(10, dtype=np.int)"
   ]
  },
  {
   "cell_type": "code",
   "execution_count": 34,
   "metadata": {},
   "outputs": [
    {
     "data": {
      "text/plain": [
       "array([1., 1., 1., 1., 1., 1., 1., 1., 1., 1.])"
      ]
     },
     "execution_count": 34,
     "metadata": {},
     "output_type": "execute_result"
    }
   ],
   "source": [
    "# 1로 초기화된 배열\n",
    "np.ones(10)"
   ]
  },
  {
   "cell_type": "code",
   "execution_count": 35,
   "metadata": {},
   "outputs": [
    {
     "data": {
      "text/plain": [
       "array([5, 5, 5, 5, 5, 5, 5, 5, 5, 5])"
      ]
     },
     "execution_count": 35,
     "metadata": {},
     "output_type": "execute_result"
    }
   ],
   "source": [
    "# 0과 1이 아닌 다른값으로 초기화 하고 싶은 경우\n",
    "np.full(10, 5)"
   ]
  },
  {
   "cell_type": "markdown",
   "metadata": {},
   "source": [
    "## 수열을 생성하는 방법\n",
    "- range와 같은 역할\n",
    "- arange\n",
    "  - 실수(소수)에 대한 수열도 생성 가능"
   ]
  },
  {
   "cell_type": "code",
   "execution_count": 36,
   "metadata": {},
   "outputs": [
    {
     "data": {
      "text/plain": [
       "array([1, 2, 3, 4, 5, 6, 7, 8, 9])"
      ]
     },
     "execution_count": 36,
     "metadata": {},
     "output_type": "execute_result"
    }
   ],
   "source": [
    "np.arange(1, 10)"
   ]
  },
  {
   "cell_type": "code",
   "execution_count": 37,
   "metadata": {},
   "outputs": [
    {
     "data": {
      "text/plain": [
       "array([1. , 1.1, 1.2, 1.3, 1.4, 1.5, 1.6, 1.7, 1.8, 1.9])"
      ]
     },
     "execution_count": 37,
     "metadata": {},
     "output_type": "execute_result"
    }
   ],
   "source": [
    "np.arange(1, 2, 0.1)"
   ]
  },
  {
   "cell_type": "code",
   "execution_count": 38,
   "metadata": {},
   "outputs": [
    {
     "data": {
      "text/plain": [
       "array([ 0.,  1.,  2.,  3.,  4.,  5.,  6.,  7.,  8.,  9., 10.])"
      ]
     },
     "metadata": {},
     "output_type": "display_data"
    },
    {
     "data": {
      "text/plain": [
       "array([1.        , 1.01010101, 1.02020202, 1.03030303, 1.04040404,\n",
       "       1.05050505, 1.06060606, 1.07070707, 1.08080808, 1.09090909,\n",
       "       1.1010101 , 1.11111111, 1.12121212, 1.13131313, 1.14141414,\n",
       "       1.15151515, 1.16161616, 1.17171717, 1.18181818, 1.19191919,\n",
       "       1.2020202 , 1.21212121, 1.22222222, 1.23232323, 1.24242424,\n",
       "       1.25252525, 1.26262626, 1.27272727, 1.28282828, 1.29292929,\n",
       "       1.3030303 , 1.31313131, 1.32323232, 1.33333333, 1.34343434,\n",
       "       1.35353535, 1.36363636, 1.37373737, 1.38383838, 1.39393939,\n",
       "       1.4040404 , 1.41414141, 1.42424242, 1.43434343, 1.44444444,\n",
       "       1.45454545, 1.46464646, 1.47474747, 1.48484848, 1.49494949,\n",
       "       1.50505051, 1.51515152, 1.52525253, 1.53535354, 1.54545455,\n",
       "       1.55555556, 1.56565657, 1.57575758, 1.58585859, 1.5959596 ,\n",
       "       1.60606061, 1.61616162, 1.62626263, 1.63636364, 1.64646465,\n",
       "       1.65656566, 1.66666667, 1.67676768, 1.68686869, 1.6969697 ,\n",
       "       1.70707071, 1.71717172, 1.72727273, 1.73737374, 1.74747475,\n",
       "       1.75757576, 1.76767677, 1.77777778, 1.78787879, 1.7979798 ,\n",
       "       1.80808081, 1.81818182, 1.82828283, 1.83838384, 1.84848485,\n",
       "       1.85858586, 1.86868687, 1.87878788, 1.88888889, 1.8989899 ,\n",
       "       1.90909091, 1.91919192, 1.92929293, 1.93939394, 1.94949495,\n",
       "       1.95959596, 1.96969697, 1.97979798, 1.98989899, 2.        ])"
      ]
     },
     "metadata": {},
     "output_type": "display_data"
    }
   ],
   "source": [
    "# 주어진 구간에서, 갯수만큼 균등한 간격으로 수열을 생성\n",
    "# 마지막 원소를 포함\n",
    "display( np.linspace(0, 10, 11) )\n",
    "display( np.linspace(1, 2, 100) )"
   ]
  },
  {
   "cell_type": "markdown",
   "metadata": {},
   "source": [
    "## 무작위 배열을 생성하는 방법\n",
    "- 랜덤\n",
    "  - 파이썬(넘파이)은 랜덤은 `균등분포`를 의미"
   ]
  },
  {
   "cell_type": "code",
   "execution_count": 39,
   "metadata": {},
   "outputs": [
    {
     "data": {
      "text/plain": [
       "array([0.68700183, 0.15169406, 0.95539223, 0.09725837, 0.89360646,\n",
       "       0.83632956, 0.24359958, 0.47067047, 0.49953817, 0.61270898])"
      ]
     },
     "execution_count": 39,
     "metadata": {},
     "output_type": "execute_result"
    }
   ],
   "source": [
    "# 균등분포를 통해서 정해진 갯수만큼 수를 생성\n",
    "# 랜덤하기 때문에, 실행할 때마다 매번 다른 값이 생성\n",
    "np.random.rand(10)"
   ]
  },
  {
   "cell_type": "code",
   "execution_count": 40,
   "metadata": {},
   "outputs": [
    {
     "data": {
      "text/plain": [
       "array([7, 3, 3, 3, 1, 2, 1, 4, 6, 0])"
      ]
     },
     "execution_count": 40,
     "metadata": {},
     "output_type": "execute_result"
    }
   ],
   "source": [
    "# 정수 형태로 무작위수를 생성\n",
    "np.random.randint(0, 10, size=10)"
   ]
  },
  {
   "cell_type": "code",
   "execution_count": 41,
   "metadata": {},
   "outputs": [
    {
     "data": {
      "text/plain": [
       "array([0.69646919, 0.28613933, 0.22685145, 0.55131477, 0.71946897,\n",
       "       0.42310646, 0.9807642 , 0.68482974, 0.4809319 , 0.39211752])"
      ]
     },
     "execution_count": 41,
     "metadata": {},
     "output_type": "execute_result"
    }
   ],
   "source": [
    "# 무작위로 생성되는 수를 고정\n",
    "np.random.seed(123)\n",
    "np.random.rand(10)"
   ]
  },
  {
   "cell_type": "code",
   "execution_count": 42,
   "metadata": {},
   "outputs": [
    {
     "data": {
      "text/plain": [
       "array([ 3,  2,  9,  8, 10])"
      ]
     },
     "execution_count": 42,
     "metadata": {},
     "output_type": "execute_result"
    }
   ],
   "source": [
    "# 중복되지 않은 무작위 수를 생성\n",
    "arr = np.arange(1, 11)\n",
    "np.random.choice(arr, size=5, replace=False)"
   ]
  },
  {
   "cell_type": "markdown",
   "metadata": {},
   "source": [
    "# 배열의 모양\n",
    "- 저차원의 배열을 고차원의 배열로 변경 \n",
    "- 고차원의 배열을 저차원의 배열로 변경\n",
    "  - 저차원은 1차원 배열로 변경이 가능합니다. \n",
    "- 변경전의 크기와 변경 후의 크기가 달라지면 안됩니다. \n",
    "  - 자료의 개수가 반드시 일치"
   ]
  },
  {
   "cell_type": "markdown",
   "metadata": {},
   "source": [
    "저차원 배열을 고차원 배열로 변경"
   ]
  },
  {
   "cell_type": "code",
   "execution_count": 43,
   "metadata": {},
   "outputs": [
    {
     "data": {
      "text/plain": [
       "array([7, 3, 2, 4])"
      ]
     },
     "execution_count": 43,
     "metadata": {},
     "output_type": "execute_result"
    }
   ],
   "source": [
    "arr1D = np.random.randint(0, 10, size=4)\n",
    "arr1D"
   ]
  },
  {
   "cell_type": "code",
   "execution_count": 44,
   "metadata": {},
   "outputs": [
    {
     "data": {
      "text/plain": [
       "array([[7, 3],\n",
       "       [2, 4]])"
      ]
     },
     "metadata": {},
     "output_type": "display_data"
    },
    {
     "data": {
      "text/plain": [
       "array([[7],\n",
       "       [3],\n",
       "       [2],\n",
       "       [4]])"
      ]
     },
     "metadata": {},
     "output_type": "display_data"
    },
    {
     "data": {
      "text/plain": [
       "array([[7, 3],\n",
       "       [2, 4]])"
      ]
     },
     "metadata": {},
     "output_type": "display_data"
    },
    {
     "data": {
      "text/plain": [
       "array([[7],\n",
       "       [3],\n",
       "       [2],\n",
       "       [4]])"
      ]
     },
     "metadata": {},
     "output_type": "display_data"
    }
   ],
   "source": [
    "display( arr1D.reshape(2, 2) )\n",
    "display( arr1D.reshape(4, 1) )\n",
    "\n",
    "# 열의 크기를 정해놓으면 나머지는 자동으로 계산\n",
    "display( arr1D.reshape(-1, 2) )\n",
    "display( arr1D.reshape(-1, 1) )"
   ]
  },
  {
   "cell_type": "markdown",
   "metadata": {},
   "source": [
    "고차원의 배열을 저차원으로 변경"
   ]
  },
  {
   "cell_type": "code",
   "execution_count": 45,
   "metadata": {},
   "outputs": [
    {
     "data": {
      "text/plain": [
       "array([[8, 3, 5],\n",
       "       [9, 1, 8],\n",
       "       [4, 5, 7]])"
      ]
     },
     "execution_count": 45,
     "metadata": {},
     "output_type": "execute_result"
    }
   ],
   "source": [
    "arr2D = np.random.randint(1, 10, size=(3, 3) )\n",
    "arr2D"
   ]
  },
  {
   "cell_type": "code",
   "execution_count": 46,
   "metadata": {},
   "outputs": [
    {
     "data": {
      "text/plain": [
       "array([8, 3, 5, 9, 1, 8, 4, 5, 7])"
      ]
     },
     "metadata": {},
     "output_type": "display_data"
    },
    {
     "data": {
      "text/plain": [
       "array([8, 3, 5, 9, 1, 8, 4, 5, 7])"
      ]
     },
     "metadata": {},
     "output_type": "display_data"
    },
    {
     "data": {
      "text/plain": [
       "array([8, 9, 4, 3, 1, 5, 5, 8, 7])"
      ]
     },
     "metadata": {},
     "output_type": "display_data"
    }
   ],
   "source": [
    "display( arr2D.flatten() )\n",
    "display( arr2D.ravel() )\n",
    "\n",
    "# 열 기준으로 변경\n",
    "display( arr2D.flatten(order='F') )"
   ]
  },
  {
   "cell_type": "markdown",
   "metadata": {},
   "source": [
    "# 넘파이를 이용한 연산\n",
    "- 기본적인 연산\n",
    "\n",
    "## 자료의 형태\n",
    "- 스칼라(Scalar)\n",
    "- 벡터(Vector)\n",
    "- 행렬(Matrix)\n",
    "\n",
    "### 스칼라\n",
    "- 물리학에서는 양(Volumn, Magnitude)을 표현\n",
    "- 방향이 없고, 물리적인 `양`만을 표현\n",
    "- 파이썬에서는 변하지 않는 상수(숫자) 정도\n",
    "\n",
    "$$\n",
    "  10, [[1]]\n",
    "$$\n",
    "\n",
    "### 벡터\n",
    "- 물리학에서는 방향성을 가지고 있는 형태\n",
    "- 파이썬에서 행이 n개이고, 열이 1인 형태의 배열\n",
    "  - 행벡터와 열벡터가 있는데, 일반적으로 벡터라고 하면 열벡터를 의미"
   ]
  },
  {
   "cell_type": "code",
   "execution_count": 47,
   "metadata": {},
   "outputs": [
    {
     "data": {
      "text/plain": [
       "array([2, 6, 7, 3, 2])"
      ]
     },
     "execution_count": 47,
     "metadata": {},
     "output_type": "execute_result"
    }
   ],
   "source": [
    "# 넘파이에서는 1차원 배열이 행벡터가 됩니다.\n",
    "vector = np.random.randint(1, 10, size=5)\n",
    "vector"
   ]
  },
  {
   "cell_type": "code",
   "execution_count": 48,
   "metadata": {},
   "outputs": [
    {
     "data": {
      "text/plain": [
       "array([[2],\n",
       "       [6],\n",
       "       [7],\n",
       "       [3],\n",
       "       [2]])"
      ]
     },
     "execution_count": 48,
     "metadata": {},
     "output_type": "execute_result"
    }
   ],
   "source": [
    "vector.reshape(-1, 1)"
   ]
  },
  {
   "cell_type": "markdown",
   "metadata": {},
   "source": [
    "### 행렬(Matrix)\n",
    "- 여러개의 벡터가 모여서 하나의 행렬을 이루게 입니다."
   ]
  },
  {
   "cell_type": "code",
   "execution_count": 49,
   "metadata": {},
   "outputs": [
    {
     "data": {
      "text/plain": [
       "array([[9, 4, 6, 1, 3],\n",
       "       [7, 3, 5, 5, 7],\n",
       "       [4, 1, 7, 5, 8]])"
      ]
     },
     "execution_count": 49,
     "metadata": {},
     "output_type": "execute_result"
    }
   ],
   "source": [
    "# 행이 n개이고, 열이 m개인 배열을 행렬이라고 보면 됨\n",
    "mat = np.random.randint(1, 10, size=(3, 5) )\n",
    "mat"
   ]
  }
 ],
 "metadata": {
  "interpreter": {
   "hash": "ce8ad003cbacc730e5ae8e25e04f0b81855cad91beef114a29a8b1ddf1550b22"
  },
  "kernelspec": {
   "display_name": "Python 3.9.7 ('base')",
   "language": "python",
   "name": "python3"
  },
  "language_info": {
   "codemirror_mode": {
    "name": "ipython",
    "version": 3
   },
   "file_extension": ".py",
   "mimetype": "text/x-python",
   "name": "python",
   "nbconvert_exporter": "python",
   "pygments_lexer": "ipython3",
   "version": "3.9.7"
  },
  "orig_nbformat": 4
 },
 "nbformat": 4,
 "nbformat_minor": 2
}
