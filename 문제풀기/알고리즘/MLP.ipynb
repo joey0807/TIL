{
 "cells": [
  {
   "cell_type": "markdown",
   "metadata": {},
   "source": [
    "# 유클리드 호제법\n",
    "- 두 수의 최대공약수(GCD)를 구하는 방법\n",
    "  1. a, b가 주어졌을 때, b가 a보다 크면 b의 값을 a로, a의 값을 b로 지정한다.\n",
    "  2. a를 b로 나눈 나머지를 n으로 지정한다.\n",
    "  3. n이 0이면 b가 최대공약수이다. (종료)\n",
    "  4. n이 0이 아니라면, a의 값을 b로, b의 값을 n로 지정하고, 2번으로 돌아간다."
   ]
  },
  {
   "cell_type": "code",
   "execution_count": 1,
   "metadata": {},
   "outputs": [
    {
     "name": "stdout",
     "output_type": "stream",
     "text": [
      "1\n"
     ]
    }
   ],
   "source": [
    "def GCD(a, b):\n",
    "    while b>0:\n",
    "        a,b = b,a%b\n",
    "    return a\n",
    "\n",
    "x, y = map(int, input().split())\n",
    "print(GCD(x,y))"
   ]
  },
  {
   "cell_type": "markdown",
   "metadata": {},
   "source": [
    "# power()함수 작성\n",
    "- n이 주어졌을 때, 2^n을 구하는 함수 작성"
   ]
  },
  {
   "cell_type": "code",
   "execution_count": 2,
   "metadata": {},
   "outputs": [
    {
     "name": "stdout",
     "output_type": "stream",
     "text": [
      "32\n"
     ]
    }
   ],
   "source": [
    "def power(a):\n",
    "    return 2**a\n",
    "\n",
    "n = int(input())\n",
    "print(power(n))"
   ]
  },
  {
   "cell_type": "markdown",
   "metadata": {},
   "source": [
    "# n^m 구하기\n",
    "- 임의의 정수 n, m이 주어졌을 때 n^m을 구하는 함수 작성\n",
    "- **연산자를 사용하지 않고!"
   ]
  },
  {
   "cell_type": "code",
   "execution_count": 3,
   "metadata": {},
   "outputs": [
    {
     "name": "stdout",
     "output_type": "stream",
     "text": [
      "216\n"
     ]
    }
   ],
   "source": [
    "def power(a,b):\n",
    "    sum = 1\n",
    "    for i in range(b):\n",
    "        sum *= n\n",
    "    return sum\n",
    "\n",
    "n, m = map(int, input().split())\n",
    "print(power(n,m))"
   ]
  },
  {
   "cell_type": "markdown",
   "metadata": {},
   "source": [
    "# 러시아농부의 곱셈\n",
    "- 왼쪽에 있는 수는 2로 나눠주고, 나머지는 버린다. (1이 될때까지 반복)\n",
    "- 오른쪽에 있는 수는 두배를 해준다.\n",
    "- 왼쪽에 있는 수가 홀수인 오른쪽의 수들을 모두 더해준다."
   ]
  },
  {
   "cell_type": "code",
   "execution_count": 5,
   "metadata": {},
   "outputs": [
    {
     "name": "stdout",
     "output_type": "stream",
     "text": [
      "1722\n"
     ]
    }
   ],
   "source": [
    "def RussianPeasant(a, b):\n",
    "  sum = 0\n",
    "  while a != 0:\n",
    "    if a%2 == 0: #왼쪽 수가 짝수이면\n",
    "      a = a//2\n",
    "      b = b*2 #왼쪽 수는 2로 나눠주고, 오른쪽 수는 2를 곱해줌\n",
    "    if a%2 != 0: #왼쪽 수가 홀수이면\n",
    "      sum = sum+ b #오른쪽의 수들을 더해줌\n",
    "      a = a//2\n",
    "      b = b*2 #나눠주고 곱해주는건 같음\n",
    "  return sum #모두 더한 값을 리턴으로 반환\n",
    "\n",
    "x, y = map(int, input().split())\n",
    "print(RussianPeasant(x,y))"
   ]
  }
 ],
 "metadata": {
  "interpreter": {
   "hash": "ce8ad003cbacc730e5ae8e25e04f0b81855cad91beef114a29a8b1ddf1550b22"
  },
  "kernelspec": {
   "display_name": "Python 3.9.7 64-bit ('base': conda)",
   "language": "python",
   "name": "python3"
  },
  "language_info": {
   "codemirror_mode": {
    "name": "ipython",
    "version": 3
   },
   "file_extension": ".py",
   "mimetype": "text/x-python",
   "name": "python",
   "nbconvert_exporter": "python",
   "pygments_lexer": "ipython3",
   "version": "3.9.7"
  },
  "orig_nbformat": 4
 },
 "nbformat": 4,
 "nbformat_minor": 2
}
