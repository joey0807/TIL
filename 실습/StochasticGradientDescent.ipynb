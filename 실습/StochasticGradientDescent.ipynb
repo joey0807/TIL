{
 "cells": [
  {
   "cell_type": "markdown",
   "metadata": {},
   "source": [
    "# 점진적 학습 알고리즘 : 확률적 경사 하강법\n",
    "![](./확률적경사하강법.PNG)"
   ]
  },
  {
   "cell_type": "markdown",
   "metadata": {},
   "source": [
    "## 확률적 경사 하강법\n",
    "- 손실 함수 : 어떤 문제에서 머닝러신 알고리즘이 얼마나 엉터리인지 측정하는 기준\n",
    "- 경사 하강법에서 내려오는 산이 손실 함수\n",
    "- 이진 분류에서 사용하는 손실 함수 : 로지스틱 손실 함수 또는 이진 크로스엔트로피 손실 함수\n",
    "- 다중 분류에서 사용하는 손실 함수 : 크로스엔트로피 손실 함수\n",
    "- -log(예측확률) 또는 -log(1-예측확률)을 사용\n",
    "- 손실 함수는 우리가 만들지 않아도 됨\n",
    "- scikit-learn의 LogisticRegression이 로지스틱 회귀를 위한 클래스\n",
    "- predict_proba() 메서드는 예측 확률을 반환\n",
    "  - 이진 분류 : 샘플마다 음성 클래스와 양성 클래스에 대한 확률 반환\n",
    "  - 다중 분류 : 샘플마다 모든 클래스에 대한 확률 반환\n",
    "- decision_function()은 모델이 학습한 선형 방정식의 출력을 반환\n",
    "  - 이진 분류 : 양성 클래스의 선형 방정식\n",
    "  - 다중 분류 : 각 클래스마다 선형 방정식"
   ]
  },
  {
   "cell_type": "markdown",
   "metadata": {},
   "source": [
    "# 학교 실습 2 : 확률적 경사 하강법(Stochasitc Gradient Descent)\n",
    "- 훈련한 데이터를 점진적으로 학습하는 방법\n",
    "- fish_csv_data 사용\n",
    "- 사이킷 런의 대표적인 확률적 경사하강법을 제공하는 분류 클래스인 SGDClassifier 사용\n",
    "- 손실 함수 : 어떤 문제에서 머신러닝 알고리즘이 얼마나 엉터리인지를 측정하는 기준\n",
    "- 파일 이름 : StochasticGradientDescent.ipynb"
   ]
  },
  {
   "cell_type": "markdown",
   "metadata": {},
   "source": [
    "## 데이터 전처리"
   ]
  },
  {
   "cell_type": "code",
   "execution_count": 2,
   "metadata": {},
   "outputs": [],
   "source": [
    "import pandas as pd\n",
    "\n",
    "fish = pd.read_csv('https://bit.ly/fish_csv_data') #데이타 읽어옴"
   ]
  },
  {
   "cell_type": "code",
   "execution_count": 3,
   "metadata": {},
   "outputs": [],
   "source": [
    "fish_input = fish[['Weight','Length','Diagonal','Height','Width']].to_numpy()\n",
    "fish_target = fish['Species'].to_numpy() #Species열은 타깃 데이터"
   ]
  },
  {
   "cell_type": "code",
   "execution_count": 4,
   "metadata": {},
   "outputs": [],
   "source": [
    "from sklearn.model_selection import train_test_split\n",
    "\n",
    "train_input, test_input, train_target, test_target = train_test_split(fish_input, fish_target, random_state=42)"
   ]
  },
  {
   "cell_type": "code",
   "execution_count": 5,
   "metadata": {},
   "outputs": [],
   "source": [
    "from sklearn.preprocessing import StandardScaler\n",
    "\n",
    "ss = StandardScaler()\n",
    "ss.fit(train_input)\n",
    "train_scaled = ss.transform(train_input)\n",
    "test_scaled = ss.transform(test_input)"
   ]
  },
  {
   "cell_type": "markdown",
   "metadata": {},
   "source": [
    "### 확률적 경사 하강법 : SGDClassifier"
   ]
  },
  {
   "cell_type": "code",
   "execution_count": 6,
   "metadata": {},
   "outputs": [],
   "source": [
    "from sklearn.linear_model import SGDClassifier"
   ]
  },
  {
   "cell_type": "code",
   "execution_count": 9,
   "metadata": {},
   "outputs": [
    {
     "name": "stdout",
     "output_type": "stream",
     "text": [
      "0.773109243697479\n",
      "0.775\n"
     ]
    },
    {
     "name": "stderr",
     "output_type": "stream",
     "text": [
      "C:\\Users\\joey0\\anaconda3\\lib\\site-packages\\sklearn\\linear_model\\_stochastic_gradient.py:574: ConvergenceWarning: Maximum number of iteration reached before convergence. Consider increasing max_iter to improve the fit.\n",
      "  warnings.warn(\"Maximum number of iteration reached before \"\n"
     ]
    }
   ],
   "source": [
    "sc = SGDClassifier(loss='log', max_iter=10, random_state=42) \n",
    "#손실함수는 로지스틱 손실함수, 수행할 에포크 횟수=10\n",
    "sc.fit(train_scaled, train_target)\n",
    "\n",
    "print(sc.score(train_scaled, train_target))  #훈련세트와 테스트 세트의 정확도 출력\n",
    "print(sc.score(test_scaled, test_target))    #warning이 뜬다면 max_iter의 숫자를 늘려준다"
   ]
  },
  {
   "cell_type": "code",
   "execution_count": 10,
   "metadata": {},
   "outputs": [
    {
     "name": "stdout",
     "output_type": "stream",
     "text": [
      "0.8151260504201681\n",
      "0.85\n"
     ]
    }
   ],
   "source": [
    "sc.partial_fit(train_scaled, train_target)  \n",
    "#앞의 정확도가 낮으므로 추가로 더 훈련, 이어서 훈련할 때는 partial_fit() 사용, 호출할 때마다 1 에포크씩 이어서 훈련\n",
    "\n",
    "print(sc.score(train_scaled, train_target))   #정확도 출력\n",
    "print(sc.score(test_scaled, test_target))"
   ]
  },
  {
   "cell_type": "markdown",
   "metadata": {},
   "source": [
    "### 확률적 경사 하강법 : 에포크와 과대/과소 적합"
   ]
  },
  {
   "cell_type": "code",
   "execution_count": 11,
   "metadata": {},
   "outputs": [],
   "source": [
    "import numpy as np\n",
    "\n",
    "sc = SGDClassifier(loss = 'log', random_state=42)\n",
    "\n",
    "train_score = [] #train_score와 test_score 점수 기록\n",
    "test_score = []\n",
    "\n",
    "classes = np.unique(train_target)"
   ]
  },
  {
   "cell_type": "code",
   "execution_count": 12,
   "metadata": {},
   "outputs": [],
   "source": [
    "for _ in range(0,300): #300번의 에포크 동안 훈련\n",
    "  sc.partial_fit(train_scaled, train_target, classes=classes)\n",
    "\n",
    "  train_score.append(sc.score(train_scaled, train_target))\n",
    "  train_score.append(sc.score(test_scaled, test_target))"
   ]
  },
  {
   "cell_type": "markdown",
   "metadata": {},
   "source": [
    "- 과대 적합(overfitting) : 모델의 훈련 세트 점수가 테스트 세트 점수보다 훨씬 높을 경우\n",
    "- 과소 적합(underfitting) : 모델의 훈련 세트 점수와 테스트 세트 점수가 동일하게 낮거나 테스트 세트의 성능이 오히려 더 높을 경우"
   ]
  },
  {
   "cell_type": "code",
   "execution_count": 13,
   "metadata": {},
   "outputs": [
    {
     "data": {
      "image/png": "[encoded data removed]",
      "text/plain": [
       "<Figure size 432x288 with 1 Axes>"
      ]
     },
     "metadata": {
      "needs_background": "light"
     },
     "output_type": "display_data"
    }
   ],
   "source": [
    "import matplotlib.pyplot as plt\n",
    "\n",
    "plt.plot(train_score)\n",
    "plt.plot(test_score)\n",
    "plt.xlabel('epoch')\n",
    "plt.ylabel('accuracy')\n",
    "plt.show()  \n",
    "#100번 이후에는 훈련세트와 테스트 세트의 간격이 벌어지고있고 정확도 차이가 없다 -> 적합한 반복횟수는 100번정도"
   ]
  },
  {
   "cell_type": "markdown",
   "metadata": {},
   "source": [
    "### 확률적 경사 하강법 : 100번 반복"
   ]
  },
  {
   "cell_type": "code",
   "execution_count": 14,
   "metadata": {},
   "outputs": [
    {
     "name": "stdout",
     "output_type": "stream",
     "text": [
      "0.957983193277311\n",
      "0.925\n"
     ]
    }
   ],
   "source": [
    "sc = SGDClassifier(loss = 'log', max_iter=100, tol=None, random_state=42) \n",
    "#SGDClassifier는 일정 에포크 동안 성능이 향상되지 않으면 더 훈련하지 않고 자동으로 멈춘다.\n",
    "#tol 매개변수에서 향상될 최소값을 지정, tol=None이면 자동으로 멈추지 말라는 의미\n",
    "\n",
    "sc.fit(train_scaled, train_target)                                        \n",
    "\n",
    "print(sc.score(train_scaled, train_target))\n",
    "print(sc.score(test_scaled, test_target))"
   ]
  },
  {
   "cell_type": "code",
   "execution_count": 16,
   "metadata": {},
   "outputs": [
    {
     "name": "stdout",
     "output_type": "stream",
     "text": [
      "0.9495798319327731\n",
      "0.925\n"
     ]
    }
   ],
   "source": [
    "sc = SGDClassifier(loss = 'hinge', max_iter=100, tol=None, random_state=42) \n",
    "#손실 함수를 hinge로 바꿔서 적용\n",
    "sc.fit(train_scaled, train_target)\n",
    "\n",
    "print(sc.score(train_scaled, train_target))\n",
    "print(sc.score(test_scaled, test_target))"
   ]
  },
  {
   "cell_type": "markdown",
   "metadata": {},
   "source": [
    "## 정리\n",
    "- 확률적 경사 하강법 : 훈련 세트에서 샘플 하나씩 꺼내 손실 함수의 경사를 따라 최적의 모델을 찾는 알고리즘\n",
    "  - 미니배치 경사 하강법 : 샘플을 하나씩 꺼내지 않고 여러 개 사용하면\n",
    "  - 배치 경사 하강법 : 한 번에 전체 샘플을 사용하면\n",
    "- 손실 함수 : 확률적 경사하강법이 최적화할 대상\n",
    "  - 이진 분류에는 로지스틱 회귀 손실 함수\n",
    "  - 다중 분류에는 크로스 엔트로피 손실함수\n",
    "  - 회귀 문제에는 평균 제곱 오차(MSE) 손실 함수 사용\n",
    "- 에포크 : 확률적 경사 하강법에서 전체 샘플을 모두 사용하는 것을 한 에포크 라고 함"
   ]
  }
 ],
 "metadata": {
  "interpreter": {
   "hash": "ce8ad003cbacc730e5ae8e25e04f0b81855cad91beef114a29a8b1ddf1550b22"
  },
  "kernelspec": {
   "display_name": "Python 3.9.7 64-bit ('base': conda)",
   "language": "python",
   "name": "python3"
  },
  "language_info": {
   "codemirror_mode": {
    "name": "ipython",
    "version": 3
   },
   "file_extension": ".py",
   "mimetype": "text/x-python",
   "name": "python",
   "nbconvert_exporter": "python",
   "pygments_lexer": "ipython3",
   "version": "3.9.7"
  },
  "orig_nbformat": 4
 },
 "nbformat": 4,
 "nbformat_minor": 2
}
